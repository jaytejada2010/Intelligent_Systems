{
 "cells": [
  {
   "cell_type": "markdown",
   "id": "738eb923",
   "metadata": {
    "papermill": {
     "duration": 0.012365,
     "end_time": "2023-12-01T19:41:36.472074",
     "exception": false,
     "start_time": "2023-12-01T19:41:36.459709",
     "status": "completed"
    },
    "tags": []
   },
   "source": [
    "# Imports"
   ]
  },
  {
   "cell_type": "code",
   "execution_count": 2,
   "id": "526fc93c",
   "metadata": {
    "execution": {
     "iopub.execute_input": "2023-12-01T19:41:36.498115Z",
     "iopub.status.busy": "2023-12-01T19:41:36.497405Z",
     "iopub.status.idle": "2023-12-01T19:41:39.666359Z",
     "shell.execute_reply": "2023-12-01T19:41:39.664984Z"
    },
    "papermill": {
     "duration": 3.186123,
     "end_time": "2023-12-01T19:41:39.669875",
     "exception": false,
     "start_time": "2023-12-01T19:41:36.483752",
     "status": "completed"
    },
    "tags": []
   },
   "outputs": [],
   "source": [
    "import pandas as pd\n",
    "import numpy as np\n",
    "import pickle\n",
    "import seaborn as sns\n",
    "import matplotlib.pyplot as plt\n",
    "from sklearn.model_selection import train_test_split\n",
    "from sklearn.preprocessing import MinMaxScaler, StandardScaler\n",
    "from sklearn.linear_model import LogisticRegression\n",
    "from sklearn.metrics import confusion_matrix,accuracy_score,classification_report\n",
    "from sklearn.tree import DecisionTreeClassifier\n",
    "from sklearn.ensemble import RandomForestClassifier\n",
    "from sklearn.neighbors import KNeighborsClassifier\n",
    "import tensorflow as tf"
   ]
  },
  {
   "cell_type": "code",
   "execution_count": 3,
   "id": "a3172a1b",
   "metadata": {
    "execution": {
     "iopub.execute_input": "2023-12-01T19:41:39.695270Z",
     "iopub.status.busy": "2023-12-01T19:41:39.694659Z",
     "iopub.status.idle": "2023-12-01T19:41:39.724082Z",
     "shell.execute_reply": "2023-12-01T19:41:39.723094Z"
    },
    "papermill": {
     "duration": 0.045797,
     "end_time": "2023-12-01T19:41:39.727166",
     "exception": false,
     "start_time": "2023-12-01T19:41:39.681369",
     "status": "completed"
    },
    "tags": []
   },
   "outputs": [],
   "source": [
    "df = pd.read_csv(\"heart.csv\")"
   ]
  },
  {
   "cell_type": "markdown",
   "id": "b5d4b8c7",
   "metadata": {
    "papermill": {
     "duration": 0.01088,
     "end_time": "2023-12-01T19:41:39.749503",
     "exception": false,
     "start_time": "2023-12-01T19:41:39.738623",
     "status": "completed"
    },
    "tags": []
   },
   "source": [
    "# Explore Data"
   ]
  },
  {
   "cell_type": "code",
   "execution_count": 4,
   "id": "34e0675e",
   "metadata": {
    "execution": {
     "iopub.execute_input": "2023-12-01T19:41:39.775175Z",
     "iopub.status.busy": "2023-12-01T19:41:39.774720Z",
     "iopub.status.idle": "2023-12-01T19:41:39.812448Z",
     "shell.execute_reply": "2023-12-01T19:41:39.811205Z"
    },
    "papermill": {
     "duration": 0.055397,
     "end_time": "2023-12-01T19:41:39.816224",
     "exception": false,
     "start_time": "2023-12-01T19:41:39.760827",
     "status": "completed"
    },
    "tags": []
   },
   "outputs": [
    {
     "data": {
      "text/html": [
       "<div>\n",
       "<style scoped>\n",
       "    .dataframe tbody tr th:only-of-type {\n",
       "        vertical-align: middle;\n",
       "    }\n",
       "\n",
       "    .dataframe tbody tr th {\n",
       "        vertical-align: top;\n",
       "    }\n",
       "\n",
       "    .dataframe thead th {\n",
       "        text-align: right;\n",
       "    }\n",
       "</style>\n",
       "<table border=\"1\" class=\"dataframe\">\n",
       "  <thead>\n",
       "    <tr style=\"text-align: right;\">\n",
       "      <th></th>\n",
       "      <th>age</th>\n",
       "      <th>sex</th>\n",
       "      <th>cp</th>\n",
       "      <th>trtbps</th>\n",
       "      <th>chol</th>\n",
       "      <th>fbs</th>\n",
       "      <th>restecg</th>\n",
       "      <th>thalachh</th>\n",
       "      <th>exng</th>\n",
       "      <th>oldpeak</th>\n",
       "      <th>slp</th>\n",
       "      <th>caa</th>\n",
       "      <th>thall</th>\n",
       "      <th>output</th>\n",
       "    </tr>\n",
       "  </thead>\n",
       "  <tbody>\n",
       "    <tr>\n",
       "      <th>0</th>\n",
       "      <td>63</td>\n",
       "      <td>1</td>\n",
       "      <td>3</td>\n",
       "      <td>145</td>\n",
       "      <td>233</td>\n",
       "      <td>1</td>\n",
       "      <td>0</td>\n",
       "      <td>150</td>\n",
       "      <td>0</td>\n",
       "      <td>2.3</td>\n",
       "      <td>0</td>\n",
       "      <td>0</td>\n",
       "      <td>1</td>\n",
       "      <td>1</td>\n",
       "    </tr>\n",
       "    <tr>\n",
       "      <th>1</th>\n",
       "      <td>37</td>\n",
       "      <td>1</td>\n",
       "      <td>2</td>\n",
       "      <td>130</td>\n",
       "      <td>250</td>\n",
       "      <td>0</td>\n",
       "      <td>1</td>\n",
       "      <td>187</td>\n",
       "      <td>0</td>\n",
       "      <td>3.5</td>\n",
       "      <td>0</td>\n",
       "      <td>0</td>\n",
       "      <td>2</td>\n",
       "      <td>1</td>\n",
       "    </tr>\n",
       "    <tr>\n",
       "      <th>2</th>\n",
       "      <td>41</td>\n",
       "      <td>0</td>\n",
       "      <td>1</td>\n",
       "      <td>130</td>\n",
       "      <td>204</td>\n",
       "      <td>0</td>\n",
       "      <td>0</td>\n",
       "      <td>172</td>\n",
       "      <td>0</td>\n",
       "      <td>1.4</td>\n",
       "      <td>2</td>\n",
       "      <td>0</td>\n",
       "      <td>2</td>\n",
       "      <td>1</td>\n",
       "    </tr>\n",
       "    <tr>\n",
       "      <th>3</th>\n",
       "      <td>56</td>\n",
       "      <td>1</td>\n",
       "      <td>1</td>\n",
       "      <td>120</td>\n",
       "      <td>236</td>\n",
       "      <td>0</td>\n",
       "      <td>1</td>\n",
       "      <td>178</td>\n",
       "      <td>0</td>\n",
       "      <td>0.8</td>\n",
       "      <td>2</td>\n",
       "      <td>0</td>\n",
       "      <td>2</td>\n",
       "      <td>1</td>\n",
       "    </tr>\n",
       "    <tr>\n",
       "      <th>4</th>\n",
       "      <td>57</td>\n",
       "      <td>0</td>\n",
       "      <td>0</td>\n",
       "      <td>120</td>\n",
       "      <td>354</td>\n",
       "      <td>0</td>\n",
       "      <td>1</td>\n",
       "      <td>163</td>\n",
       "      <td>1</td>\n",
       "      <td>0.6</td>\n",
       "      <td>2</td>\n",
       "      <td>0</td>\n",
       "      <td>2</td>\n",
       "      <td>1</td>\n",
       "    </tr>\n",
       "    <tr>\n",
       "      <th>5</th>\n",
       "      <td>57</td>\n",
       "      <td>1</td>\n",
       "      <td>0</td>\n",
       "      <td>140</td>\n",
       "      <td>192</td>\n",
       "      <td>0</td>\n",
       "      <td>1</td>\n",
       "      <td>148</td>\n",
       "      <td>0</td>\n",
       "      <td>0.4</td>\n",
       "      <td>1</td>\n",
       "      <td>0</td>\n",
       "      <td>1</td>\n",
       "      <td>1</td>\n",
       "    </tr>\n",
       "    <tr>\n",
       "      <th>6</th>\n",
       "      <td>56</td>\n",
       "      <td>0</td>\n",
       "      <td>1</td>\n",
       "      <td>140</td>\n",
       "      <td>294</td>\n",
       "      <td>0</td>\n",
       "      <td>0</td>\n",
       "      <td>153</td>\n",
       "      <td>0</td>\n",
       "      <td>1.3</td>\n",
       "      <td>1</td>\n",
       "      <td>0</td>\n",
       "      <td>2</td>\n",
       "      <td>1</td>\n",
       "    </tr>\n",
       "    <tr>\n",
       "      <th>7</th>\n",
       "      <td>44</td>\n",
       "      <td>1</td>\n",
       "      <td>1</td>\n",
       "      <td>120</td>\n",
       "      <td>263</td>\n",
       "      <td>0</td>\n",
       "      <td>1</td>\n",
       "      <td>173</td>\n",
       "      <td>0</td>\n",
       "      <td>0.0</td>\n",
       "      <td>2</td>\n",
       "      <td>0</td>\n",
       "      <td>3</td>\n",
       "      <td>1</td>\n",
       "    </tr>\n",
       "    <tr>\n",
       "      <th>8</th>\n",
       "      <td>52</td>\n",
       "      <td>1</td>\n",
       "      <td>2</td>\n",
       "      <td>172</td>\n",
       "      <td>199</td>\n",
       "      <td>1</td>\n",
       "      <td>1</td>\n",
       "      <td>162</td>\n",
       "      <td>0</td>\n",
       "      <td>0.5</td>\n",
       "      <td>2</td>\n",
       "      <td>0</td>\n",
       "      <td>3</td>\n",
       "      <td>1</td>\n",
       "    </tr>\n",
       "    <tr>\n",
       "      <th>9</th>\n",
       "      <td>57</td>\n",
       "      <td>1</td>\n",
       "      <td>2</td>\n",
       "      <td>150</td>\n",
       "      <td>168</td>\n",
       "      <td>0</td>\n",
       "      <td>1</td>\n",
       "      <td>174</td>\n",
       "      <td>0</td>\n",
       "      <td>1.6</td>\n",
       "      <td>2</td>\n",
       "      <td>0</td>\n",
       "      <td>2</td>\n",
       "      <td>1</td>\n",
       "    </tr>\n",
       "  </tbody>\n",
       "</table>\n",
       "</div>"
      ],
      "text/plain": [
       "   age  sex  cp  trtbps  chol  fbs  restecg  thalachh  exng  oldpeak  slp  \\\n",
       "0   63    1   3     145   233    1        0       150     0      2.3    0   \n",
       "1   37    1   2     130   250    0        1       187     0      3.5    0   \n",
       "2   41    0   1     130   204    0        0       172     0      1.4    2   \n",
       "3   56    1   1     120   236    0        1       178     0      0.8    2   \n",
       "4   57    0   0     120   354    0        1       163     1      0.6    2   \n",
       "5   57    1   0     140   192    0        1       148     0      0.4    1   \n",
       "6   56    0   1     140   294    0        0       153     0      1.3    1   \n",
       "7   44    1   1     120   263    0        1       173     0      0.0    2   \n",
       "8   52    1   2     172   199    1        1       162     0      0.5    2   \n",
       "9   57    1   2     150   168    0        1       174     0      1.6    2   \n",
       "\n",
       "   caa  thall  output  \n",
       "0    0      1       1  \n",
       "1    0      2       1  \n",
       "2    0      2       1  \n",
       "3    0      2       1  \n",
       "4    0      2       1  \n",
       "5    0      1       1  \n",
       "6    0      2       1  \n",
       "7    0      3       1  \n",
       "8    0      3       1  \n",
       "9    0      2       1  "
      ]
     },
     "execution_count": 4,
     "metadata": {},
     "output_type": "execute_result"
    }
   ],
   "source": [
    "df.head(10)"
   ]
  },
  {
   "cell_type": "code",
   "execution_count": 5,
   "id": "5fdb42e8",
   "metadata": {
    "execution": {
     "iopub.execute_input": "2023-12-01T19:41:39.842723Z",
     "iopub.status.busy": "2023-12-01T19:41:39.842275Z",
     "iopub.status.idle": "2023-12-01T19:41:39.863933Z",
     "shell.execute_reply": "2023-12-01T19:41:39.862680Z"
    },
    "papermill": {
     "duration": 0.037845,
     "end_time": "2023-12-01T19:41:39.866382",
     "exception": false,
     "start_time": "2023-12-01T19:41:39.828537",
     "status": "completed"
    },
    "tags": []
   },
   "outputs": [
    {
     "data": {
      "text/html": [
       "<div>\n",
       "<style scoped>\n",
       "    .dataframe tbody tr th:only-of-type {\n",
       "        vertical-align: middle;\n",
       "    }\n",
       "\n",
       "    .dataframe tbody tr th {\n",
       "        vertical-align: top;\n",
       "    }\n",
       "\n",
       "    .dataframe thead th {\n",
       "        text-align: right;\n",
       "    }\n",
       "</style>\n",
       "<table border=\"1\" class=\"dataframe\">\n",
       "  <thead>\n",
       "    <tr style=\"text-align: right;\">\n",
       "      <th></th>\n",
       "      <th>age</th>\n",
       "      <th>sex</th>\n",
       "      <th>cp</th>\n",
       "      <th>trtbps</th>\n",
       "      <th>chol</th>\n",
       "      <th>fbs</th>\n",
       "      <th>restecg</th>\n",
       "      <th>thalachh</th>\n",
       "      <th>exng</th>\n",
       "      <th>oldpeak</th>\n",
       "      <th>slp</th>\n",
       "      <th>caa</th>\n",
       "      <th>thall</th>\n",
       "      <th>output</th>\n",
       "    </tr>\n",
       "  </thead>\n",
       "  <tbody>\n",
       "    <tr>\n",
       "      <th>293</th>\n",
       "      <td>67</td>\n",
       "      <td>1</td>\n",
       "      <td>2</td>\n",
       "      <td>152</td>\n",
       "      <td>212</td>\n",
       "      <td>0</td>\n",
       "      <td>0</td>\n",
       "      <td>150</td>\n",
       "      <td>0</td>\n",
       "      <td>0.8</td>\n",
       "      <td>1</td>\n",
       "      <td>0</td>\n",
       "      <td>3</td>\n",
       "      <td>0</td>\n",
       "    </tr>\n",
       "    <tr>\n",
       "      <th>294</th>\n",
       "      <td>44</td>\n",
       "      <td>1</td>\n",
       "      <td>0</td>\n",
       "      <td>120</td>\n",
       "      <td>169</td>\n",
       "      <td>0</td>\n",
       "      <td>1</td>\n",
       "      <td>144</td>\n",
       "      <td>1</td>\n",
       "      <td>2.8</td>\n",
       "      <td>0</td>\n",
       "      <td>0</td>\n",
       "      <td>1</td>\n",
       "      <td>0</td>\n",
       "    </tr>\n",
       "    <tr>\n",
       "      <th>295</th>\n",
       "      <td>63</td>\n",
       "      <td>1</td>\n",
       "      <td>0</td>\n",
       "      <td>140</td>\n",
       "      <td>187</td>\n",
       "      <td>0</td>\n",
       "      <td>0</td>\n",
       "      <td>144</td>\n",
       "      <td>1</td>\n",
       "      <td>4.0</td>\n",
       "      <td>2</td>\n",
       "      <td>2</td>\n",
       "      <td>3</td>\n",
       "      <td>0</td>\n",
       "    </tr>\n",
       "    <tr>\n",
       "      <th>296</th>\n",
       "      <td>63</td>\n",
       "      <td>0</td>\n",
       "      <td>0</td>\n",
       "      <td>124</td>\n",
       "      <td>197</td>\n",
       "      <td>0</td>\n",
       "      <td>1</td>\n",
       "      <td>136</td>\n",
       "      <td>1</td>\n",
       "      <td>0.0</td>\n",
       "      <td>1</td>\n",
       "      <td>0</td>\n",
       "      <td>2</td>\n",
       "      <td>0</td>\n",
       "    </tr>\n",
       "    <tr>\n",
       "      <th>297</th>\n",
       "      <td>59</td>\n",
       "      <td>1</td>\n",
       "      <td>0</td>\n",
       "      <td>164</td>\n",
       "      <td>176</td>\n",
       "      <td>1</td>\n",
       "      <td>0</td>\n",
       "      <td>90</td>\n",
       "      <td>0</td>\n",
       "      <td>1.0</td>\n",
       "      <td>1</td>\n",
       "      <td>2</td>\n",
       "      <td>1</td>\n",
       "      <td>0</td>\n",
       "    </tr>\n",
       "    <tr>\n",
       "      <th>298</th>\n",
       "      <td>57</td>\n",
       "      <td>0</td>\n",
       "      <td>0</td>\n",
       "      <td>140</td>\n",
       "      <td>241</td>\n",
       "      <td>0</td>\n",
       "      <td>1</td>\n",
       "      <td>123</td>\n",
       "      <td>1</td>\n",
       "      <td>0.2</td>\n",
       "      <td>1</td>\n",
       "      <td>0</td>\n",
       "      <td>3</td>\n",
       "      <td>0</td>\n",
       "    </tr>\n",
       "    <tr>\n",
       "      <th>299</th>\n",
       "      <td>45</td>\n",
       "      <td>1</td>\n",
       "      <td>3</td>\n",
       "      <td>110</td>\n",
       "      <td>264</td>\n",
       "      <td>0</td>\n",
       "      <td>1</td>\n",
       "      <td>132</td>\n",
       "      <td>0</td>\n",
       "      <td>1.2</td>\n",
       "      <td>1</td>\n",
       "      <td>0</td>\n",
       "      <td>3</td>\n",
       "      <td>0</td>\n",
       "    </tr>\n",
       "    <tr>\n",
       "      <th>300</th>\n",
       "      <td>68</td>\n",
       "      <td>1</td>\n",
       "      <td>0</td>\n",
       "      <td>144</td>\n",
       "      <td>193</td>\n",
       "      <td>1</td>\n",
       "      <td>1</td>\n",
       "      <td>141</td>\n",
       "      <td>0</td>\n",
       "      <td>3.4</td>\n",
       "      <td>1</td>\n",
       "      <td>2</td>\n",
       "      <td>3</td>\n",
       "      <td>0</td>\n",
       "    </tr>\n",
       "    <tr>\n",
       "      <th>301</th>\n",
       "      <td>57</td>\n",
       "      <td>1</td>\n",
       "      <td>0</td>\n",
       "      <td>130</td>\n",
       "      <td>131</td>\n",
       "      <td>0</td>\n",
       "      <td>1</td>\n",
       "      <td>115</td>\n",
       "      <td>1</td>\n",
       "      <td>1.2</td>\n",
       "      <td>1</td>\n",
       "      <td>1</td>\n",
       "      <td>3</td>\n",
       "      <td>0</td>\n",
       "    </tr>\n",
       "    <tr>\n",
       "      <th>302</th>\n",
       "      <td>57</td>\n",
       "      <td>0</td>\n",
       "      <td>1</td>\n",
       "      <td>130</td>\n",
       "      <td>236</td>\n",
       "      <td>0</td>\n",
       "      <td>0</td>\n",
       "      <td>174</td>\n",
       "      <td>0</td>\n",
       "      <td>0.0</td>\n",
       "      <td>1</td>\n",
       "      <td>1</td>\n",
       "      <td>2</td>\n",
       "      <td>0</td>\n",
       "    </tr>\n",
       "  </tbody>\n",
       "</table>\n",
       "</div>"
      ],
      "text/plain": [
       "     age  sex  cp  trtbps  chol  fbs  restecg  thalachh  exng  oldpeak  slp  \\\n",
       "293   67    1   2     152   212    0        0       150     0      0.8    1   \n",
       "294   44    1   0     120   169    0        1       144     1      2.8    0   \n",
       "295   63    1   0     140   187    0        0       144     1      4.0    2   \n",
       "296   63    0   0     124   197    0        1       136     1      0.0    1   \n",
       "297   59    1   0     164   176    1        0        90     0      1.0    1   \n",
       "298   57    0   0     140   241    0        1       123     1      0.2    1   \n",
       "299   45    1   3     110   264    0        1       132     0      1.2    1   \n",
       "300   68    1   0     144   193    1        1       141     0      3.4    1   \n",
       "301   57    1   0     130   131    0        1       115     1      1.2    1   \n",
       "302   57    0   1     130   236    0        0       174     0      0.0    1   \n",
       "\n",
       "     caa  thall  output  \n",
       "293    0      3       0  \n",
       "294    0      1       0  \n",
       "295    2      3       0  \n",
       "296    0      2       0  \n",
       "297    2      1       0  \n",
       "298    0      3       0  \n",
       "299    0      3       0  \n",
       "300    2      3       0  \n",
       "301    1      3       0  \n",
       "302    1      2       0  "
      ]
     },
     "execution_count": 5,
     "metadata": {},
     "output_type": "execute_result"
    }
   ],
   "source": [
    "df.tail(10)"
   ]
  },
  {
   "cell_type": "code",
   "execution_count": 6,
   "id": "febbc446",
   "metadata": {
    "execution": {
     "iopub.execute_input": "2023-12-01T19:41:39.893382Z",
     "iopub.status.busy": "2023-12-01T19:41:39.892375Z",
     "iopub.status.idle": "2023-12-01T19:41:39.900941Z",
     "shell.execute_reply": "2023-12-01T19:41:39.899554Z"
    },
    "papermill": {
     "duration": 0.025377,
     "end_time": "2023-12-01T19:41:39.903690",
     "exception": false,
     "start_time": "2023-12-01T19:41:39.878313",
     "status": "completed"
    },
    "tags": []
   },
   "outputs": [
    {
     "data": {
      "text/plain": [
       "(303, 14)"
      ]
     },
     "execution_count": 6,
     "metadata": {},
     "output_type": "execute_result"
    }
   ],
   "source": [
    "df.shape"
   ]
  },
  {
   "cell_type": "code",
   "execution_count": 7,
   "id": "113a46b8",
   "metadata": {
    "execution": {
     "iopub.execute_input": "2023-12-01T19:41:39.931098Z",
     "iopub.status.busy": "2023-12-01T19:41:39.930597Z",
     "iopub.status.idle": "2023-12-01T19:41:39.962242Z",
     "shell.execute_reply": "2023-12-01T19:41:39.960339Z"
    },
    "papermill": {
     "duration": 0.049433,
     "end_time": "2023-12-01T19:41:39.965294",
     "exception": false,
     "start_time": "2023-12-01T19:41:39.915861",
     "status": "completed"
    },
    "tags": []
   },
   "outputs": [
    {
     "name": "stdout",
     "output_type": "stream",
     "text": [
      "<class 'pandas.core.frame.DataFrame'>\n",
      "RangeIndex: 303 entries, 0 to 302\n",
      "Data columns (total 14 columns):\n",
      " #   Column    Non-Null Count  Dtype  \n",
      "---  ------    --------------  -----  \n",
      " 0   age       303 non-null    int64  \n",
      " 1   sex       303 non-null    int64  \n",
      " 2   cp        303 non-null    int64  \n",
      " 3   trtbps    303 non-null    int64  \n",
      " 4   chol      303 non-null    int64  \n",
      " 5   fbs       303 non-null    int64  \n",
      " 6   restecg   303 non-null    int64  \n",
      " 7   thalachh  303 non-null    int64  \n",
      " 8   exng      303 non-null    int64  \n",
      " 9   oldpeak   303 non-null    float64\n",
      " 10  slp       303 non-null    int64  \n",
      " 11  caa       303 non-null    int64  \n",
      " 12  thall     303 non-null    int64  \n",
      " 13  output    303 non-null    int64  \n",
      "dtypes: float64(1), int64(13)\n",
      "memory usage: 33.3 KB\n"
     ]
    }
   ],
   "source": [
    "df.info()"
   ]
  },
  {
   "cell_type": "code",
   "execution_count": 8,
   "id": "c9e6e476",
   "metadata": {
    "execution": {
     "iopub.execute_input": "2023-12-01T19:41:39.992624Z",
     "iopub.status.busy": "2023-12-01T19:41:39.992082Z",
     "iopub.status.idle": "2023-12-01T19:41:40.053985Z",
     "shell.execute_reply": "2023-12-01T19:41:40.052237Z"
    },
    "papermill": {
     "duration": 0.079076,
     "end_time": "2023-12-01T19:41:40.056955",
     "exception": false,
     "start_time": "2023-12-01T19:41:39.977879",
     "status": "completed"
    },
    "tags": []
   },
   "outputs": [
    {
     "data": {
      "text/html": [
       "<div>\n",
       "<style scoped>\n",
       "    .dataframe tbody tr th:only-of-type {\n",
       "        vertical-align: middle;\n",
       "    }\n",
       "\n",
       "    .dataframe tbody tr th {\n",
       "        vertical-align: top;\n",
       "    }\n",
       "\n",
       "    .dataframe thead th {\n",
       "        text-align: right;\n",
       "    }\n",
       "</style>\n",
       "<table border=\"1\" class=\"dataframe\">\n",
       "  <thead>\n",
       "    <tr style=\"text-align: right;\">\n",
       "      <th></th>\n",
       "      <th>age</th>\n",
       "      <th>sex</th>\n",
       "      <th>cp</th>\n",
       "      <th>trtbps</th>\n",
       "      <th>chol</th>\n",
       "      <th>fbs</th>\n",
       "      <th>restecg</th>\n",
       "      <th>thalachh</th>\n",
       "      <th>exng</th>\n",
       "      <th>oldpeak</th>\n",
       "      <th>slp</th>\n",
       "      <th>caa</th>\n",
       "      <th>thall</th>\n",
       "      <th>output</th>\n",
       "    </tr>\n",
       "  </thead>\n",
       "  <tbody>\n",
       "    <tr>\n",
       "      <th>count</th>\n",
       "      <td>303.000000</td>\n",
       "      <td>303.000000</td>\n",
       "      <td>303.000000</td>\n",
       "      <td>303.000000</td>\n",
       "      <td>303.000000</td>\n",
       "      <td>303.000000</td>\n",
       "      <td>303.000000</td>\n",
       "      <td>303.000000</td>\n",
       "      <td>303.000000</td>\n",
       "      <td>303.000000</td>\n",
       "      <td>303.000000</td>\n",
       "      <td>303.000000</td>\n",
       "      <td>303.000000</td>\n",
       "      <td>303.000000</td>\n",
       "    </tr>\n",
       "    <tr>\n",
       "      <th>mean</th>\n",
       "      <td>54.366337</td>\n",
       "      <td>0.683168</td>\n",
       "      <td>0.966997</td>\n",
       "      <td>131.623762</td>\n",
       "      <td>246.264026</td>\n",
       "      <td>0.148515</td>\n",
       "      <td>0.528053</td>\n",
       "      <td>149.646865</td>\n",
       "      <td>0.326733</td>\n",
       "      <td>1.039604</td>\n",
       "      <td>1.399340</td>\n",
       "      <td>0.729373</td>\n",
       "      <td>2.313531</td>\n",
       "      <td>0.544554</td>\n",
       "    </tr>\n",
       "    <tr>\n",
       "      <th>std</th>\n",
       "      <td>9.082101</td>\n",
       "      <td>0.466011</td>\n",
       "      <td>1.032052</td>\n",
       "      <td>17.538143</td>\n",
       "      <td>51.830751</td>\n",
       "      <td>0.356198</td>\n",
       "      <td>0.525860</td>\n",
       "      <td>22.905161</td>\n",
       "      <td>0.469794</td>\n",
       "      <td>1.161075</td>\n",
       "      <td>0.616226</td>\n",
       "      <td>1.022606</td>\n",
       "      <td>0.612277</td>\n",
       "      <td>0.498835</td>\n",
       "    </tr>\n",
       "    <tr>\n",
       "      <th>min</th>\n",
       "      <td>29.000000</td>\n",
       "      <td>0.000000</td>\n",
       "      <td>0.000000</td>\n",
       "      <td>94.000000</td>\n",
       "      <td>126.000000</td>\n",
       "      <td>0.000000</td>\n",
       "      <td>0.000000</td>\n",
       "      <td>71.000000</td>\n",
       "      <td>0.000000</td>\n",
       "      <td>0.000000</td>\n",
       "      <td>0.000000</td>\n",
       "      <td>0.000000</td>\n",
       "      <td>0.000000</td>\n",
       "      <td>0.000000</td>\n",
       "    </tr>\n",
       "    <tr>\n",
       "      <th>25%</th>\n",
       "      <td>47.500000</td>\n",
       "      <td>0.000000</td>\n",
       "      <td>0.000000</td>\n",
       "      <td>120.000000</td>\n",
       "      <td>211.000000</td>\n",
       "      <td>0.000000</td>\n",
       "      <td>0.000000</td>\n",
       "      <td>133.500000</td>\n",
       "      <td>0.000000</td>\n",
       "      <td>0.000000</td>\n",
       "      <td>1.000000</td>\n",
       "      <td>0.000000</td>\n",
       "      <td>2.000000</td>\n",
       "      <td>0.000000</td>\n",
       "    </tr>\n",
       "    <tr>\n",
       "      <th>50%</th>\n",
       "      <td>55.000000</td>\n",
       "      <td>1.000000</td>\n",
       "      <td>1.000000</td>\n",
       "      <td>130.000000</td>\n",
       "      <td>240.000000</td>\n",
       "      <td>0.000000</td>\n",
       "      <td>1.000000</td>\n",
       "      <td>153.000000</td>\n",
       "      <td>0.000000</td>\n",
       "      <td>0.800000</td>\n",
       "      <td>1.000000</td>\n",
       "      <td>0.000000</td>\n",
       "      <td>2.000000</td>\n",
       "      <td>1.000000</td>\n",
       "    </tr>\n",
       "    <tr>\n",
       "      <th>75%</th>\n",
       "      <td>61.000000</td>\n",
       "      <td>1.000000</td>\n",
       "      <td>2.000000</td>\n",
       "      <td>140.000000</td>\n",
       "      <td>274.500000</td>\n",
       "      <td>0.000000</td>\n",
       "      <td>1.000000</td>\n",
       "      <td>166.000000</td>\n",
       "      <td>1.000000</td>\n",
       "      <td>1.600000</td>\n",
       "      <td>2.000000</td>\n",
       "      <td>1.000000</td>\n",
       "      <td>3.000000</td>\n",
       "      <td>1.000000</td>\n",
       "    </tr>\n",
       "    <tr>\n",
       "      <th>max</th>\n",
       "      <td>77.000000</td>\n",
       "      <td>1.000000</td>\n",
       "      <td>3.000000</td>\n",
       "      <td>200.000000</td>\n",
       "      <td>564.000000</td>\n",
       "      <td>1.000000</td>\n",
       "      <td>2.000000</td>\n",
       "      <td>202.000000</td>\n",
       "      <td>1.000000</td>\n",
       "      <td>6.200000</td>\n",
       "      <td>2.000000</td>\n",
       "      <td>4.000000</td>\n",
       "      <td>3.000000</td>\n",
       "      <td>1.000000</td>\n",
       "    </tr>\n",
       "  </tbody>\n",
       "</table>\n",
       "</div>"
      ],
      "text/plain": [
       "              age         sex          cp      trtbps        chol         fbs  \\\n",
       "count  303.000000  303.000000  303.000000  303.000000  303.000000  303.000000   \n",
       "mean    54.366337    0.683168    0.966997  131.623762  246.264026    0.148515   \n",
       "std      9.082101    0.466011    1.032052   17.538143   51.830751    0.356198   \n",
       "min     29.000000    0.000000    0.000000   94.000000  126.000000    0.000000   \n",
       "25%     47.500000    0.000000    0.000000  120.000000  211.000000    0.000000   \n",
       "50%     55.000000    1.000000    1.000000  130.000000  240.000000    0.000000   \n",
       "75%     61.000000    1.000000    2.000000  140.000000  274.500000    0.000000   \n",
       "max     77.000000    1.000000    3.000000  200.000000  564.000000    1.000000   \n",
       "\n",
       "          restecg    thalachh        exng     oldpeak         slp         caa  \\\n",
       "count  303.000000  303.000000  303.000000  303.000000  303.000000  303.000000   \n",
       "mean     0.528053  149.646865    0.326733    1.039604    1.399340    0.729373   \n",
       "std      0.525860   22.905161    0.469794    1.161075    0.616226    1.022606   \n",
       "min      0.000000   71.000000    0.000000    0.000000    0.000000    0.000000   \n",
       "25%      0.000000  133.500000    0.000000    0.000000    1.000000    0.000000   \n",
       "50%      1.000000  153.000000    0.000000    0.800000    1.000000    0.000000   \n",
       "75%      1.000000  166.000000    1.000000    1.600000    2.000000    1.000000   \n",
       "max      2.000000  202.000000    1.000000    6.200000    2.000000    4.000000   \n",
       "\n",
       "            thall      output  \n",
       "count  303.000000  303.000000  \n",
       "mean     2.313531    0.544554  \n",
       "std      0.612277    0.498835  \n",
       "min      0.000000    0.000000  \n",
       "25%      2.000000    0.000000  \n",
       "50%      2.000000    1.000000  \n",
       "75%      3.000000    1.000000  \n",
       "max      3.000000    1.000000  "
      ]
     },
     "execution_count": 8,
     "metadata": {},
     "output_type": "execute_result"
    }
   ],
   "source": [
    "df.describe()"
   ]
  },
  {
   "cell_type": "code",
   "execution_count": 9,
   "id": "19c5849d",
   "metadata": {
    "execution": {
     "iopub.execute_input": "2023-12-01T19:41:40.084172Z",
     "iopub.status.busy": "2023-12-01T19:41:40.083765Z",
     "iopub.status.idle": "2023-12-01T19:41:40.094014Z",
     "shell.execute_reply": "2023-12-01T19:41:40.092594Z"
    },
    "papermill": {
     "duration": 0.027212,
     "end_time": "2023-12-01T19:41:40.096794",
     "exception": false,
     "start_time": "2023-12-01T19:41:40.069582",
     "status": "completed"
    },
    "tags": []
   },
   "outputs": [
    {
     "data": {
      "text/plain": [
       "age         0\n",
       "sex         0\n",
       "cp          0\n",
       "trtbps      0\n",
       "chol        0\n",
       "fbs         0\n",
       "restecg     0\n",
       "thalachh    0\n",
       "exng        0\n",
       "oldpeak     0\n",
       "slp         0\n",
       "caa         0\n",
       "thall       0\n",
       "output      0\n",
       "dtype: int64"
      ]
     },
     "execution_count": 9,
     "metadata": {},
     "output_type": "execute_result"
    }
   ],
   "source": [
    "df.isna().sum()"
   ]
  },
  {
   "cell_type": "markdown",
   "id": "05b5f605",
   "metadata": {
    "papermill": {
     "duration": 0.014008,
     "end_time": "2023-12-01T19:41:40.854321",
     "exception": false,
     "start_time": "2023-12-01T19:41:40.840313",
     "status": "completed"
    },
    "tags": []
   },
   "source": [
    "So there is NO Null values in this data"
   ]
  },
  {
   "cell_type": "markdown",
   "id": "690474fe",
   "metadata": {
    "papermill": {
     "duration": 0.014625,
     "end_time": "2023-12-01T19:41:40.883472",
     "exception": false,
     "start_time": "2023-12-01T19:41:40.868847",
     "status": "completed"
    },
    "tags": []
   },
   "source": [
    "# Cleaning Data"
   ]
  },
  {
   "cell_type": "code",
   "execution_count": 10,
   "id": "649daf2b",
   "metadata": {
    "execution": {
     "iopub.execute_input": "2023-12-01T19:41:40.914152Z",
     "iopub.status.busy": "2023-12-01T19:41:40.913698Z",
     "iopub.status.idle": "2023-12-01T19:41:40.926777Z",
     "shell.execute_reply": "2023-12-01T19:41:40.925384Z"
    },
    "papermill": {
     "duration": 0.031968,
     "end_time": "2023-12-01T19:41:40.929591",
     "exception": false,
     "start_time": "2023-12-01T19:41:40.897623",
     "status": "completed"
    },
    "tags": []
   },
   "outputs": [
    {
     "data": {
      "text/plain": [
       "1"
      ]
     },
     "execution_count": 10,
     "metadata": {},
     "output_type": "execute_result"
    }
   ],
   "source": [
    "df.duplicated().sum()"
   ]
  },
  {
   "cell_type": "code",
   "execution_count": 11,
   "id": "a7633462",
   "metadata": {
    "execution": {
     "iopub.execute_input": "2023-12-01T19:41:40.961252Z",
     "iopub.status.busy": "2023-12-01T19:41:40.960820Z",
     "iopub.status.idle": "2023-12-01T19:41:40.973377Z",
     "shell.execute_reply": "2023-12-01T19:41:40.971855Z"
    },
    "papermill": {
     "duration": 0.032832,
     "end_time": "2023-12-01T19:41:40.976536",
     "exception": false,
     "start_time": "2023-12-01T19:41:40.943704",
     "status": "completed"
    },
    "tags": []
   },
   "outputs": [
    {
     "data": {
      "text/plain": [
       "None"
      ]
     },
     "metadata": {},
     "output_type": "display_data"
    }
   ],
   "source": [
    "display(df.drop_duplicates(inplace=True)) "
   ]
  },
  {
   "cell_type": "code",
   "execution_count": 12,
   "id": "3ab8e45f",
   "metadata": {
    "execution": {
     "iopub.execute_input": "2023-12-01T19:41:41.009357Z",
     "iopub.status.busy": "2023-12-01T19:41:41.008916Z",
     "iopub.status.idle": "2023-12-01T19:41:41.020188Z",
     "shell.execute_reply": "2023-12-01T19:41:41.018696Z"
    },
    "papermill": {
     "duration": 0.03164,
     "end_time": "2023-12-01T19:41:41.023046",
     "exception": false,
     "start_time": "2023-12-01T19:41:40.991406",
     "status": "completed"
    },
    "tags": []
   },
   "outputs": [
    {
     "data": {
      "text/plain": [
       "0"
      ]
     },
     "execution_count": 12,
     "metadata": {},
     "output_type": "execute_result"
    }
   ],
   "source": [
    "df.duplicated().sum()"
   ]
  },
  {
   "cell_type": "markdown",
   "id": "2b25246d",
   "metadata": {
    "papermill": {
     "duration": 0.014437,
     "end_time": "2023-12-01T19:41:41.052770",
     "exception": false,
     "start_time": "2023-12-01T19:41:41.038333",
     "status": "completed"
    },
    "tags": []
   },
   "source": [
    "# Analysis and Visualization"
   ]
  },
  {
   "cell_type": "code",
   "execution_count": 13,
   "id": "5c5c9d17",
   "metadata": {
    "execution": {
     "iopub.execute_input": "2023-12-01T19:41:41.086448Z",
     "iopub.status.busy": "2023-12-01T19:41:41.085902Z",
     "iopub.status.idle": "2023-12-01T19:41:41.095848Z",
     "shell.execute_reply": "2023-12-01T19:41:41.094803Z"
    },
    "papermill": {
     "duration": 0.029792,
     "end_time": "2023-12-01T19:41:41.098293",
     "exception": false,
     "start_time": "2023-12-01T19:41:41.068501",
     "status": "completed"
    },
    "tags": []
   },
   "outputs": [
    {
     "data": {
      "text/plain": [
       "output\n",
       "1    164\n",
       "0    138\n",
       "Name: count, dtype: int64"
      ]
     },
     "execution_count": 13,
     "metadata": {},
     "output_type": "execute_result"
    }
   ],
   "source": [
    "df['output'].value_counts()"
   ]
  },
  {
   "cell_type": "code",
   "execution_count": 14,
   "id": "f7116f8d",
   "metadata": {
    "execution": {
     "iopub.execute_input": "2023-12-01T19:41:41.157858Z",
     "iopub.status.busy": "2023-12-01T19:41:41.157289Z",
     "iopub.status.idle": "2023-12-01T19:41:44.047914Z",
     "shell.execute_reply": "2023-12-01T19:41:44.046776Z"
    },
    "papermill": {
     "duration": 2.90934,
     "end_time": "2023-12-01T19:41:44.050571",
     "exception": false,
     "start_time": "2023-12-01T19:41:41.141231",
     "status": "completed"
    },
    "tags": []
   },
   "outputs": [
    {
     "data": {
      "image/png": "[encoded data removed]",
      "text/plain": [
       "<Figure size 1500x1000 with 16 Axes>"
      ]
     },
     "metadata": {},
     "output_type": "display_data"
    }
   ],
   "source": [
    "df.hist(figsize=(15,10))\n",
    "plt.show()"
   ]
  },
  {
   "cell_type": "code",
   "execution_count": 15,
   "id": "62b06208",
   "metadata": {
    "execution": {
     "iopub.execute_input": "2023-12-01T19:41:44.085399Z",
     "iopub.status.busy": "2023-12-01T19:41:44.084645Z",
     "iopub.status.idle": "2023-12-01T19:41:45.109306Z",
     "shell.execute_reply": "2023-12-01T19:41:45.107771Z"
    },
    "papermill": {
     "duration": 1.045716,
     "end_time": "2023-12-01T19:41:45.112401",
     "exception": false,
     "start_time": "2023-12-01T19:41:44.066685",
     "status": "completed"
    },
    "tags": []
   },
   "outputs": [
    {
     "data": {
      "text/plain": [
       "<Axes: >"
      ]
     },
     "execution_count": 15,
     "metadata": {},
     "output_type": "execute_result"
    },
    {
     "data": {
      "image/png": "[encoded data removed]",
      "text/plain": [
       "<Figure size 640x480 with 2 Axes>"
      ]
     },
     "metadata": {},
     "output_type": "display_data"
    }
   ],
   "source": [
    "corr= df.corr()\n",
    "sns.heatmap(corr.rank(axis='columns'),cmap='Purples',annot=True)"
   ]
  },
  {
   "cell_type": "markdown",
   "id": "d0726f7d",
   "metadata": {
    "papermill": {
     "duration": 0.017232,
     "end_time": "2023-12-01T19:41:45.148338",
     "exception": false,
     "start_time": "2023-12-01T19:41:45.131106",
     "status": "completed"
    },
    "tags": []
   },
   "source": [
    "# Splitting Data"
   ]
  },
  {
   "cell_type": "code",
   "execution_count": 16,
   "id": "d9e2a71b",
   "metadata": {
    "execution": {
     "iopub.execute_input": "2023-12-01T19:41:45.185847Z",
     "iopub.status.busy": "2023-12-01T19:41:45.185308Z",
     "iopub.status.idle": "2023-12-01T19:41:45.193348Z",
     "shell.execute_reply": "2023-12-01T19:41:45.191736Z"
    },
    "papermill": {
     "duration": 0.030207,
     "end_time": "2023-12-01T19:41:45.196158",
     "exception": false,
     "start_time": "2023-12-01T19:41:45.165951",
     "status": "completed"
    },
    "tags": []
   },
   "outputs": [],
   "source": [
    "X = df.drop('output',axis='columns')\n",
    "y= df['output']"
   ]
  },
  {
   "cell_type": "code",
   "execution_count": 17,
   "id": "6371e822",
   "metadata": {
    "execution": {
     "iopub.execute_input": "2023-12-01T19:41:45.233030Z",
     "iopub.status.busy": "2023-12-01T19:41:45.232506Z",
     "iopub.status.idle": "2023-12-01T19:41:45.241459Z",
     "shell.execute_reply": "2023-12-01T19:41:45.239902Z"
    },
    "papermill": {
     "duration": 0.030769,
     "end_time": "2023-12-01T19:41:45.244340",
     "exception": false,
     "start_time": "2023-12-01T19:41:45.213571",
     "status": "completed"
    },
    "tags": []
   },
   "outputs": [],
   "source": [
    "X_train,X_test,y_train,y_test = train_test_split(X,y,test_size=0.2,random_state=42)"
   ]
  },
  {
   "cell_type": "code",
   "execution_count": 18,
   "id": "b1f22a68",
   "metadata": {},
   "outputs": [],
   "source": [
    "# Normalization and Standardization\n",
    "\n",
    "scaler = MinMaxScaler()\n",
    "X_train_scaled = scaler.fit_transform(X_train)\n",
    "X_test_scaled = scaler.transform(X_test)\n",
    "\n",
    "scaler2 = StandardScaler()\n",
    "X_train_scaled2 = scaler2.fit_transform(X_train)\n",
    "X_test_scaled2 = scaler2.transform(X_test)"
   ]
  },
  {
   "cell_type": "markdown",
   "id": "42806a59",
   "metadata": {
    "papermill": {
     "duration": 0.08065,
     "end_time": "2023-12-01T19:41:45.342255",
     "exception": false,
     "start_time": "2023-12-01T19:41:45.261605",
     "status": "completed"
    },
    "tags": []
   },
   "source": [
    "**Decision Tree Classifier**"
   ]
  },
  {
   "cell_type": "code",
   "execution_count": 19,
   "id": "2db63c6c",
   "metadata": {
    "execution": {
     "iopub.execute_input": "2023-12-01T19:41:45.379287Z",
     "iopub.status.busy": "2023-12-01T19:41:45.378797Z",
     "iopub.status.idle": "2023-12-01T19:41:45.394953Z",
     "shell.execute_reply": "2023-12-01T19:41:45.393973Z"
    },
    "papermill": {
     "duration": 0.038036,
     "end_time": "2023-12-01T19:41:45.397712",
     "exception": false,
     "start_time": "2023-12-01T19:41:45.359676",
     "status": "completed"
    },
    "tags": []
   },
   "outputs": [
    {
     "name": "stdout",
     "output_type": "stream",
     "text": [
      "With normalization:\n",
      "Decision Tree Train Accuracy =  100.0 %\n",
      "Decision tree Test Accuracy =  78.69 %\n",
      "\n",
      "              precision    recall  f1-score   support\n",
      "\n",
      "           0     0.7353    0.8621    0.7937        29\n",
      "           1     0.8519    0.7188    0.7797        32\n",
      "\n",
      "    accuracy                         0.7869        61\n",
      "   macro avg     0.7936    0.7904    0.7867        61\n",
      "weighted avg     0.7964    0.7869    0.7863        61\n",
      "\n"
     ]
    }
   ],
   "source": [
    "DT = DecisionTreeClassifier()\n",
    "DT.fit(X_train_scaled,y_train)\n",
    "\n",
    "y_prediction = DT.predict(X_test_scaled)\n",
    "tree_train_acc = round(accuracy_score(y_train,DT.predict(X_train_scaled))*100,2)\n",
    "tree_test_acc = round(accuracy_score(y_test,y_prediction)*100,2)\n",
    "\n",
    "print(\"With normalization:\")\n",
    "print('Decision Tree Train Accuracy = ' , tree_train_acc,'%')\n",
    "print('Decision tree Test Accuracy = ' , tree_test_acc,'%')\n",
    "print()\n",
    "print(classification_report(y_test,DT.predict(X_test_scaled), digits= 4))"
   ]
  },
  {
   "cell_type": "code",
   "execution_count": 20,
   "id": "f6046740",
   "metadata": {
    "execution": {
     "iopub.execute_input": "2023-12-01T19:41:45.436801Z",
     "iopub.status.busy": "2023-12-01T19:41:45.436280Z",
     "iopub.status.idle": "2023-12-01T19:41:45.451783Z",
     "shell.execute_reply": "2023-12-01T19:41:45.450403Z"
    },
    "papermill": {
     "duration": 0.038565,
     "end_time": "2023-12-01T19:41:45.454394",
     "exception": false,
     "start_time": "2023-12-01T19:41:45.415829",
     "status": "completed"
    },
    "tags": []
   },
   "outputs": [
    {
     "name": "stdout",
     "output_type": "stream",
     "text": [
      "With standardization:\n",
      "Decision Tree Train Accuracy =  100.0 %\n",
      "Decision tree Test Accuracy =  75.41 %\n",
      "\n",
      "              precision    recall  f1-score   support\n",
      "\n",
      "           0     0.6944    0.8621    0.7692        29\n",
      "           1     0.8400    0.6562    0.7368        32\n",
      "\n",
      "    accuracy                         0.7541        61\n",
      "   macro avg     0.7672    0.7592    0.7530        61\n",
      "weighted avg     0.7708    0.7541    0.7522        61\n",
      "\n"
     ]
    }
   ],
   "source": [
    "DT2 = DecisionTreeClassifier()\n",
    "DT2.fit(X_train_scaled2,y_train)\n",
    "\n",
    "y_prediction2 = DT2.predict(X_test_scaled2)\n",
    "tree_train_acc2 = round(accuracy_score(y_train,DT2.predict(X_train_scaled2))*100,2)\n",
    "tree_test_acc2 = round(accuracy_score(y_test,y_prediction2)*100,2)\n",
    "\n",
    "print(\"With standardization:\")\n",
    "print('Decision Tree Train Accuracy = ' , tree_train_acc2,'%')\n",
    "print('Decision tree Test Accuracy = ' , tree_test_acc2,'%')\n",
    "print()\n",
    "print(classification_report(y_test,DT2.predict(X_test_scaled2), digits= 4))"
   ]
  },
  {
   "cell_type": "markdown",
   "id": "511c181b",
   "metadata": {},
   "source": [
    "**K-Nearest Neighbors Classifier**"
   ]
  },
  {
   "cell_type": "code",
   "execution_count": 21,
   "id": "433b7441",
   "metadata": {},
   "outputs": [
    {
     "name": "stdout",
     "output_type": "stream",
     "text": [
      "With normalization:\n",
      "KNN Train Accuracy =  84.65 %\n",
      "KNN Test Accuracy =  85.25 %\n",
      "\n",
      "              precision    recall  f1-score   support\n",
      "\n",
      "           0     0.7941    0.9310    0.8571        29\n",
      "           1     0.9259    0.7812    0.8475        32\n",
      "\n",
      "    accuracy                         0.8525        61\n",
      "   macro avg     0.8600    0.8561    0.8523        61\n",
      "weighted avg     0.8633    0.8525    0.8521        61\n",
      "\n"
     ]
    }
   ],
   "source": [
    "KNN = KNeighborsClassifier()\n",
    "KNN.fit(X_train_scaled,y_train)\n",
    "\n",
    "y_prediction = KNN.predict(X_test_scaled)\n",
    "tree_train_acc = round(accuracy_score(y_train,KNN.predict(X_train_scaled))*100,2)\n",
    "tree_test_acc = round(accuracy_score(y_test,y_prediction)*100,2)\n",
    "\n",
    "print(\"With normalization:\")\n",
    "print('KNN Train Accuracy = ' , tree_train_acc,'%')\n",
    "print('KNN Test Accuracy = ' , tree_test_acc,'%')\n",
    "print()\n",
    "print(classification_report(y_test,KNN.predict(X_test_scaled), digits= 4))\n"
   ]
  },
  {
   "cell_type": "code",
   "execution_count": 22,
   "id": "32a1e44a",
   "metadata": {},
   "outputs": [
    {
     "name": "stdout",
     "output_type": "stream",
     "text": [
      "With standardization:\n",
      "KNN Train Accuracy =  86.31 %\n",
      "KNN Test Accuracy =  91.8 %\n",
      "\n",
      "              precision    recall  f1-score   support\n",
      "\n",
      "           0     0.8750    0.9655    0.9180        29\n",
      "           1     0.9655    0.8750    0.9180        32\n",
      "\n",
      "    accuracy                         0.9180        61\n",
      "   macro avg     0.9203    0.9203    0.9180        61\n",
      "weighted avg     0.9225    0.9180    0.9180        61\n",
      "\n"
     ]
    }
   ],
   "source": [
    "KNN2 = KNeighborsClassifier()\n",
    "KNN2.fit(X_train_scaled2,y_train)\n",
    "\n",
    "y_prediction2 = KNN2.predict(X_test_scaled2)\n",
    "tree_train_acc2 = round(accuracy_score(y_train,KNN2.predict(X_train_scaled2))*100,2)\n",
    "tree_test_acc2 = round(accuracy_score(y_test,y_prediction2)*100,2)\n",
    "\n",
    "print(\"With standardization:\")\n",
    "print('KNN Train Accuracy = ' , tree_train_acc2,'%')\n",
    "print('KNN Test Accuracy = ' , tree_test_acc2,'%')\n",
    "print()\n",
    "print(classification_report(y_test,KNN2.predict(X_test_scaled2), digits= 4))"
   ]
  },
  {
   "cell_type": "markdown",
   "id": "9ed9f64d",
   "metadata": {
    "papermill": {
     "duration": 0.019377,
     "end_time": "2023-12-01T19:41:45.551878",
     "exception": false,
     "start_time": "2023-12-01T19:41:45.532501",
     "status": "completed"
    },
    "tags": []
   },
   "source": [
    "**Random Forest**"
   ]
  },
  {
   "cell_type": "code",
   "execution_count": 23,
   "id": "d3675bb2",
   "metadata": {
    "execution": {
     "iopub.execute_input": "2023-12-01T19:41:45.590660Z",
     "iopub.status.busy": "2023-12-01T19:41:45.590189Z",
     "iopub.status.idle": "2023-12-01T19:41:45.839669Z",
     "shell.execute_reply": "2023-12-01T19:41:45.838159Z"
    },
    "papermill": {
     "duration": 0.273147,
     "end_time": "2023-12-01T19:41:45.842624",
     "exception": false,
     "start_time": "2023-12-01T19:41:45.569477",
     "status": "completed"
    },
    "tags": []
   },
   "outputs": [
    {
     "name": "stdout",
     "output_type": "stream",
     "text": [
      "With normalization:\n",
      "Random Forest Train Accuracy =  100.0 %\n",
      "Random Forest Test Accuracy =  85.25 %\n",
      "\n",
      "              precision    recall  f1-score   support\n",
      "\n",
      "           0     0.8333    0.8621    0.8475        29\n",
      "           1     0.8710    0.8438    0.8571        32\n",
      "\n",
      "    accuracy                         0.8525        61\n",
      "   macro avg     0.8522    0.8529    0.8523        61\n",
      "weighted avg     0.8531    0.8525    0.8525        61\n",
      "\n"
     ]
    }
   ],
   "source": [
    "RF = RandomForestClassifier()\n",
    "RF.fit(X_train_scaled,y_train)\n",
    "\n",
    "y_prediction = RF.predict(X_test_scaled)\n",
    "tree_train_acc = round(accuracy_score(y_train,RF.predict(X_train_scaled))*100,2)\n",
    "tree_test_acc = round(accuracy_score(y_test,y_prediction)*100,2)\n",
    "\n",
    "print(\"With normalization:\")\n",
    "print('Random Forest Train Accuracy = ' , tree_train_acc,'%')\n",
    "print('Random Forest Test Accuracy = ' , tree_test_acc,'%')\n",
    "print()\n",
    "print(classification_report(y_test,RF.predict(X_test_scaled), digits= 4))"
   ]
  },
  {
   "cell_type": "code",
   "execution_count": 24,
   "id": "d380b032",
   "metadata": {
    "execution": {
     "iopub.execute_input": "2023-12-01T19:41:45.881230Z",
     "iopub.status.busy": "2023-12-01T19:41:45.880829Z",
     "iopub.status.idle": "2023-12-01T19:41:45.915898Z",
     "shell.execute_reply": "2023-12-01T19:41:45.914126Z"
    },
    "papermill": {
     "duration": 0.058544,
     "end_time": "2023-12-01T19:41:45.919016",
     "exception": false,
     "start_time": "2023-12-01T19:41:45.860472",
     "status": "completed"
    },
    "tags": []
   },
   "outputs": [
    {
     "name": "stdout",
     "output_type": "stream",
     "text": [
      "With standardization:\n",
      "Random Forest Train Accuracy =  100.0 %\n",
      "Random Forest Test Accuracy =  86.89 %\n",
      "\n",
      "              precision    recall  f1-score   support\n",
      "\n",
      "           0     0.8387    0.8966    0.8667        29\n",
      "           1     0.9000    0.8438    0.8710        32\n",
      "\n",
      "    accuracy                         0.8689        61\n",
      "   macro avg     0.8694    0.8702    0.8688        61\n",
      "weighted avg     0.8709    0.8689    0.8689        61\n",
      "\n"
     ]
    }
   ],
   "source": [
    "RF2 = RandomForestClassifier()\n",
    "RF2.fit(X_train_scaled2,y_train)\n",
    "\n",
    "y_prediction2 = RF2.predict(X_test_scaled2)\n",
    "tree_train_acc2 = round(accuracy_score(y_train,RF2.predict(X_train_scaled2))*100,2)\n",
    "tree_test_acc2 = round(accuracy_score(y_test,y_prediction2)*100,2)\n",
    "\n",
    "print(\"With standardization:\")\n",
    "print('Random Forest Train Accuracy = ' , tree_train_acc2,'%')\n",
    "print('Random Forest Test Accuracy = ' , tree_test_acc2,'%')\n",
    "print()\n",
    "print(classification_report(y_test,RF2.predict(X_test_scaled2), digits= 4))"
   ]
  },
  {
   "cell_type": "markdown",
   "id": "241ae0d1",
   "metadata": {
    "papermill": {
     "duration": 0.017956,
     "end_time": "2023-12-01T19:41:46.025688",
     "exception": false,
     "start_time": "2023-12-01T19:41:46.007732",
     "status": "completed"
    },
    "tags": []
   },
   "source": [
    "**Logistic Regression**"
   ]
  },
  {
   "cell_type": "code",
   "execution_count": 25,
   "id": "edc42c54",
   "metadata": {
    "execution": {
     "iopub.execute_input": "2023-12-01T19:41:46.065813Z",
     "iopub.status.busy": "2023-12-01T19:41:46.064455Z",
     "iopub.status.idle": "2023-12-01T19:41:46.104851Z",
     "shell.execute_reply": "2023-12-01T19:41:46.103337Z"
    },
    "papermill": {
     "duration": 0.063125,
     "end_time": "2023-12-01T19:41:46.107618",
     "exception": false,
     "start_time": "2023-12-01T19:41:46.044493",
     "status": "completed"
    },
    "tags": []
   },
   "outputs": [
    {
     "name": "stdout",
     "output_type": "stream",
     "text": [
      "With normalization:\n",
      "Logistic Regression Train Accuracy =  85.48 %\n",
      "Logistic Regression Test Accuracy =  83.61 %\n",
      "\n",
      "              precision    recall  f1-score   support\n",
      "\n",
      "           0     0.8276    0.8276    0.8276        29\n",
      "           1     0.8438    0.8438    0.8438        32\n",
      "\n",
      "    accuracy                         0.8361        61\n",
      "   macro avg     0.8357    0.8357    0.8357        61\n",
      "weighted avg     0.8361    0.8361    0.8361        61\n",
      "\n"
     ]
    }
   ],
   "source": [
    "LR = LogisticRegression()\n",
    "LR.fit(X_train_scaled,y_train)\n",
    "\n",
    "y_prediction = LR.predict(X_test_scaled)\n",
    "tree_train_acc = round(accuracy_score(y_train,LR.predict(X_train_scaled))*100,2)\n",
    "tree_test_acc = round(accuracy_score(y_test,y_prediction)*100,2)\n",
    "\n",
    "print(\"With normalization:\")\n",
    "print('Logistic Regression Train Accuracy = ' , tree_train_acc,'%')\n",
    "print('Logistic Regression Test Accuracy = ' , tree_test_acc,'%')\n",
    "print()\n",
    "print(classification_report(y_test,LR.predict(X_test_scaled), digits= 4))"
   ]
  },
  {
   "cell_type": "code",
   "execution_count": 26,
   "id": "379df9af",
   "metadata": {
    "execution": {
     "iopub.execute_input": "2023-12-01T19:41:46.147835Z",
     "iopub.status.busy": "2023-12-01T19:41:46.146294Z",
     "iopub.status.idle": "2023-12-01T19:41:46.162568Z",
     "shell.execute_reply": "2023-12-01T19:41:46.161019Z"
    },
    "papermill": {
     "duration": 0.039321,
     "end_time": "2023-12-01T19:41:46.165244",
     "exception": false,
     "start_time": "2023-12-01T19:41:46.125923",
     "status": "completed"
    },
    "tags": []
   },
   "outputs": [
    {
     "name": "stdout",
     "output_type": "stream",
     "text": [
      "With standardization:\n",
      "Logistic Regression Train Accuracy =  85.89 %\n",
      "Logistic Regression Test Accuracy =  83.61 %\n",
      "\n",
      "              precision    recall  f1-score   support\n",
      "\n",
      "           0     0.8065    0.8621    0.8333        29\n",
      "           1     0.8667    0.8125    0.8387        32\n",
      "\n",
      "    accuracy                         0.8361        61\n",
      "   macro avg     0.8366    0.8373    0.8360        61\n",
      "weighted avg     0.8380    0.8361    0.8362        61\n",
      "\n"
     ]
    }
   ],
   "source": [
    "LR2 = LogisticRegression()\n",
    "LR2.fit(X_train_scaled2,y_train)\n",
    "\n",
    "y_prediction2 = LR2.predict(X_test_scaled2)\n",
    "tree_train_acc2 = round(accuracy_score(y_train,LR2.predict(X_train_scaled2))*100,2)\n",
    "tree_test_acc2 = round(accuracy_score(y_test,y_prediction2)*100,2)\n",
    "\n",
    "print(\"With standardization:\")\n",
    "print('Logistic Regression Train Accuracy = ' , tree_train_acc2,'%')\n",
    "print('Logistic Regression Test Accuracy = ' , tree_test_acc2,'%')\n",
    "print()\n",
    "print(classification_report(y_test,LR2.predict(X_test_scaled2), digits= 4))"
   ]
  },
  {
   "cell_type": "markdown",
   "id": "a45c8fbc",
   "metadata": {},
   "source": [
    "**Neural Network**"
   ]
  },
  {
   "cell_type": "code",
   "execution_count": 27,
   "id": "449e36cd",
   "metadata": {},
   "outputs": [
    {
     "name": "stdout",
     "output_type": "stream",
     "text": [
      "Epoch 1/80\n",
      "241/241 [==============================] - 4s 6ms/step - loss: 0.6718 - accuracy: 0.6473\n",
      "Epoch 2/80\n",
      "241/241 [==============================] - 1s 3ms/step - loss: 0.6515 - accuracy: 0.6929\n",
      "Epoch 3/80\n",
      "241/241 [==============================] - 1s 4ms/step - loss: 0.6290 - accuracy: 0.7344\n",
      "Epoch 4/80\n",
      "241/241 [==============================] - 1s 5ms/step - loss: 0.6074 - accuracy: 0.7427\n",
      "Epoch 5/80\n",
      "241/241 [==============================] - 2s 6ms/step - loss: 0.5857 - accuracy: 0.7759\n",
      "Epoch 6/80\n",
      "241/241 [==============================] - 1s 4ms/step - loss: 0.5643 - accuracy: 0.7967\n",
      "Epoch 7/80\n",
      "241/241 [==============================] - 0s 2ms/step - loss: 0.5432 - accuracy: 0.7967\n",
      "Epoch 8/80\n",
      "241/241 [==============================] - 1s 3ms/step - loss: 0.5257 - accuracy: 0.8008\n",
      "Epoch 9/80\n",
      "241/241 [==============================] - 1s 4ms/step - loss: 0.5059 - accuracy: 0.8008\n",
      "Epoch 10/80\n",
      "241/241 [==============================] - 1s 3ms/step - loss: 0.4893 - accuracy: 0.8008\n",
      "Epoch 11/80\n",
      "241/241 [==============================] - 1s 3ms/step - loss: 0.4713 - accuracy: 0.8299\n",
      "Epoch 12/80\n",
      "241/241 [==============================] - 1s 4ms/step - loss: 0.4582 - accuracy: 0.8257\n",
      "Epoch 13/80\n",
      "241/241 [==============================] - 1s 4ms/step - loss: 0.4497 - accuracy: 0.8174\n",
      "Epoch 14/80\n",
      "241/241 [==============================] - 1s 3ms/step - loss: 0.4398 - accuracy: 0.8257\n",
      "Epoch 15/80\n",
      "241/241 [==============================] - 1s 3ms/step - loss: 0.4309 - accuracy: 0.8050\n",
      "Epoch 16/80\n",
      "241/241 [==============================] - 1s 3ms/step - loss: 0.4238 - accuracy: 0.8382\n",
      "Epoch 17/80\n",
      "241/241 [==============================] - 1s 4ms/step - loss: 0.4141 - accuracy: 0.8340\n",
      "Epoch 18/80\n",
      "241/241 [==============================] - 1s 3ms/step - loss: 0.4107 - accuracy: 0.8299\n",
      "Epoch 19/80\n",
      "241/241 [==============================] - 1s 3ms/step - loss: 0.4034 - accuracy: 0.8340\n",
      "Epoch 20/80\n",
      "241/241 [==============================] - 1s 4ms/step - loss: 0.3996 - accuracy: 0.8257\n",
      "Epoch 21/80\n",
      "241/241 [==============================] - 1s 3ms/step - loss: 0.3964 - accuracy: 0.8423\n",
      "Epoch 22/80\n",
      "241/241 [==============================] - 1s 3ms/step - loss: 0.3907 - accuracy: 0.8382\n",
      "Epoch 23/80\n",
      "241/241 [==============================] - 1s 3ms/step - loss: 0.3869 - accuracy: 0.8465\n",
      "Epoch 24/80\n",
      "241/241 [==============================] - 1s 4ms/step - loss: 0.3832 - accuracy: 0.8423\n",
      "Epoch 25/80\n",
      "241/241 [==============================] - 1s 4ms/step - loss: 0.3798 - accuracy: 0.8382\n",
      "Epoch 26/80\n",
      "241/241 [==============================] - 1s 3ms/step - loss: 0.3780 - accuracy: 0.8465\n",
      "Epoch 27/80\n",
      "241/241 [==============================] - 1s 3ms/step - loss: 0.3823 - accuracy: 0.8423\n",
      "Epoch 28/80\n",
      "241/241 [==============================] - 1s 3ms/step - loss: 0.3760 - accuracy: 0.8423\n",
      "Epoch 29/80\n",
      "241/241 [==============================] - 1s 3ms/step - loss: 0.3737 - accuracy: 0.8423\n",
      "Epoch 30/80\n",
      "241/241 [==============================] - 1s 4ms/step - loss: 0.3715 - accuracy: 0.8257\n",
      "Epoch 31/80\n",
      "241/241 [==============================] - 1s 3ms/step - loss: 0.3693 - accuracy: 0.8423\n",
      "Epoch 32/80\n",
      "241/241 [==============================] - 1s 3ms/step - loss: 0.3709 - accuracy: 0.8465\n",
      "Epoch 33/80\n",
      "241/241 [==============================] - 1s 3ms/step - loss: 0.3676 - accuracy: 0.8423\n",
      "Epoch 34/80\n",
      "241/241 [==============================] - 1s 4ms/step - loss: 0.3651 - accuracy: 0.8299\n",
      "Epoch 35/80\n",
      "241/241 [==============================] - 1s 4ms/step - loss: 0.3652 - accuracy: 0.8465\n",
      "Epoch 36/80\n",
      "241/241 [==============================] - 1s 3ms/step - loss: 0.3643 - accuracy: 0.8506\n",
      "Epoch 37/80\n",
      "241/241 [==============================] - 1s 3ms/step - loss: 0.3617 - accuracy: 0.8423\n",
      "Epoch 38/80\n",
      "241/241 [==============================] - 1s 4ms/step - loss: 0.3622 - accuracy: 0.8506\n",
      "Epoch 39/80\n",
      "241/241 [==============================] - 1s 4ms/step - loss: 0.3616 - accuracy: 0.8548\n",
      "Epoch 40/80\n",
      "241/241 [==============================] - 1s 3ms/step - loss: 0.3598 - accuracy: 0.8340\n",
      "Epoch 41/80\n",
      "241/241 [==============================] - 1s 3ms/step - loss: 0.3607 - accuracy: 0.8589\n",
      "Epoch 42/80\n",
      "241/241 [==============================] - 1s 4ms/step - loss: 0.3583 - accuracy: 0.8423\n",
      "Epoch 43/80\n",
      "241/241 [==============================] - 1s 4ms/step - loss: 0.3571 - accuracy: 0.8382\n",
      "Epoch 44/80\n",
      "241/241 [==============================] - 1s 3ms/step - loss: 0.3574 - accuracy: 0.8340\n",
      "Epoch 45/80\n",
      "241/241 [==============================] - 1s 3ms/step - loss: 0.3553 - accuracy: 0.8506\n",
      "Epoch 46/80\n",
      "241/241 [==============================] - 1s 3ms/step - loss: 0.3570 - accuracy: 0.8299\n",
      "Epoch 47/80\n",
      "241/241 [==============================] - 1s 4ms/step - loss: 0.3554 - accuracy: 0.8548\n",
      "Epoch 48/80\n",
      "241/241 [==============================] - 1s 3ms/step - loss: 0.3533 - accuracy: 0.8465\n",
      "Epoch 49/80\n",
      "241/241 [==============================] - 1s 4ms/step - loss: 0.3527 - accuracy: 0.8423\n",
      "Epoch 50/80\n",
      "241/241 [==============================] - 1s 3ms/step - loss: 0.3502 - accuracy: 0.8423\n",
      "Epoch 51/80\n",
      "241/241 [==============================] - 1s 4ms/step - loss: 0.3511 - accuracy: 0.8506\n",
      "Epoch 52/80\n",
      "241/241 [==============================] - 1s 3ms/step - loss: 0.3500 - accuracy: 0.8340\n",
      "Epoch 53/80\n",
      "241/241 [==============================] - 1s 3ms/step - loss: 0.3492 - accuracy: 0.8548\n",
      "Epoch 54/80\n",
      "241/241 [==============================] - 1s 3ms/step - loss: 0.3506 - accuracy: 0.8465\n",
      "Epoch 55/80\n",
      "241/241 [==============================] - 1s 4ms/step - loss: 0.3487 - accuracy: 0.8506\n",
      "Epoch 56/80\n",
      "241/241 [==============================] - 1s 3ms/step - loss: 0.3496 - accuracy: 0.8382\n",
      "Epoch 57/80\n",
      "241/241 [==============================] - 1s 3ms/step - loss: 0.3466 - accuracy: 0.8506\n",
      "Epoch 58/80\n",
      "241/241 [==============================] - 1s 4ms/step - loss: 0.3500 - accuracy: 0.8340\n",
      "Epoch 59/80\n",
      "241/241 [==============================] - 1s 3ms/step - loss: 0.3456 - accuracy: 0.8548\n",
      "Epoch 60/80\n",
      "241/241 [==============================] - 1s 4ms/step - loss: 0.3456 - accuracy: 0.8631\n",
      "Epoch 61/80\n",
      "241/241 [==============================] - 1s 3ms/step - loss: 0.3465 - accuracy: 0.8548\n",
      "Epoch 62/80\n",
      "241/241 [==============================] - 1s 4ms/step - loss: 0.3451 - accuracy: 0.8548\n",
      "Epoch 63/80\n",
      "241/241 [==============================] - 1s 3ms/step - loss: 0.3455 - accuracy: 0.8465\n",
      "Epoch 64/80\n",
      "241/241 [==============================] - 1s 3ms/step - loss: 0.3424 - accuracy: 0.8631\n",
      "Epoch 65/80\n",
      "241/241 [==============================] - 1s 3ms/step - loss: 0.3430 - accuracy: 0.8589\n",
      "Epoch 66/80\n",
      "241/241 [==============================] - 1s 3ms/step - loss: 0.3434 - accuracy: 0.8548\n",
      "Epoch 67/80\n",
      "241/241 [==============================] - 1s 4ms/step - loss: 0.3440 - accuracy: 0.8589\n",
      "Epoch 68/80\n",
      "241/241 [==============================] - 1s 4ms/step - loss: 0.3415 - accuracy: 0.8714\n",
      "Epoch 69/80\n",
      "241/241 [==============================] - 1s 3ms/step - loss: 0.3419 - accuracy: 0.8465\n",
      "Epoch 70/80\n",
      "241/241 [==============================] - 1s 3ms/step - loss: 0.3405 - accuracy: 0.8631\n",
      "Epoch 71/80\n",
      "241/241 [==============================] - 1s 3ms/step - loss: 0.3409 - accuracy: 0.8548\n",
      "Epoch 72/80\n",
      "241/241 [==============================] - 1s 4ms/step - loss: 0.3422 - accuracy: 0.8589\n",
      "Epoch 73/80\n",
      "241/241 [==============================] - 1s 4ms/step - loss: 0.3381 - accuracy: 0.8548\n",
      "Epoch 74/80\n",
      "241/241 [==============================] - 1s 3ms/step - loss: 0.3391 - accuracy: 0.8589\n",
      "Epoch 75/80\n",
      "241/241 [==============================] - 1s 3ms/step - loss: 0.3406 - accuracy: 0.8714\n",
      "Epoch 76/80\n",
      "241/241 [==============================] - 1s 3ms/step - loss: 0.3356 - accuracy: 0.8631\n",
      "Epoch 77/80\n",
      "241/241 [==============================] - 1s 4ms/step - loss: 0.3381 - accuracy: 0.8589\n",
      "Epoch 78/80\n",
      "241/241 [==============================] - 1s 3ms/step - loss: 0.3379 - accuracy: 0.8423\n",
      "Epoch 79/80\n",
      "241/241 [==============================] - 1s 3ms/step - loss: 0.3361 - accuracy: 0.8672\n",
      "Epoch 80/80\n",
      "241/241 [==============================] - 1s 3ms/step - loss: 0.3371 - accuracy: 0.8631\n"
     ]
    },
    {
     "data": {
      "text/plain": [
       "<keras.src.callbacks.History at 0x1e73f8f6a90>"
      ]
     },
     "execution_count": 27,
     "metadata": {},
     "output_type": "execute_result"
    }
   ],
   "source": [
    "ann = tf.keras.models.Sequential([\n",
    "    tf.keras.layers.Dense(units=13, activation='relu'),   # Input layer\n",
    "    tf.keras.layers.Dense(units=7, activation='relu'),   # Hidden layer\n",
    "    tf.keras.layers.Dense(units=4, activation='relu'),   # Hidden layer\n",
    "    tf.keras.layers.Dense(units=1, activation='sigmoid') # Output layer\n",
    "])\n",
    "ann.compile(optimizer = 'adamax', loss = 'binary_crossentropy', metrics = ['accuracy'])\n",
    "ann.fit(X_train_scaled, y_train, batch_size = 1, epochs = 80)"
   ]
  },
  {
   "cell_type": "code",
   "execution_count": 28,
   "id": "ee8a132b",
   "metadata": {},
   "outputs": [
    {
     "name": "stdout",
     "output_type": "stream",
     "text": [
      "2/2 [==============================] - 2s 0s/step\n",
      "With normalization:\n",
      "Neural Network Test Accuracy =  86.89 %\n",
      "\n",
      "Confusion matrix:\n",
      "[[26  3]\n",
      " [ 5 27]]\n",
      "              precision    recall  f1-score   support\n",
      "\n",
      "           0     0.8387    0.8966    0.8667        29\n",
      "           1     0.9000    0.8438    0.8710        32\n",
      "\n",
      "    accuracy                         0.8689        61\n",
      "   macro avg     0.8694    0.8702    0.8688        61\n",
      "weighted avg     0.8709    0.8689    0.8689        61\n",
      "\n"
     ]
    }
   ],
   "source": [
    "y_pre = ann.predict(X_test_scaled)\n",
    "y_pred = (y_pre > 0.5)\n",
    "cm = confusion_matrix(y_test, y_pred)\n",
    "\n",
    "acc = round(accuracy_score(y_test,y_pred)*100,2)\n",
    "print('With normalization:')\n",
    "print('Neural Network Test Accuracy = ' , acc,'%')\n",
    "print()\n",
    "print('Confusion matrix:')\n",
    "print(cm)\n",
    "print(classification_report(y_test, y_pred, digits= 4))"
   ]
  },
  {
   "cell_type": "code",
   "execution_count": 29,
   "id": "baab9af4",
   "metadata": {},
   "outputs": [
    {
     "name": "stdout",
     "output_type": "stream",
     "text": [
      "Epoch 1/80\n",
      "241/241 [==============================] - 3s 3ms/step - loss: 0.7143 - accuracy: 0.5560\n",
      "Epoch 2/80\n",
      "241/241 [==============================] - 1s 3ms/step - loss: 0.6750 - accuracy: 0.6017\n",
      "Epoch 3/80\n",
      "241/241 [==============================] - 1s 4ms/step - loss: 0.6539 - accuracy: 0.6307\n",
      "Epoch 4/80\n",
      "241/241 [==============================] - 1s 3ms/step - loss: 0.6381 - accuracy: 0.6432\n",
      "Epoch 5/80\n",
      "241/241 [==============================] - 1s 3ms/step - loss: 0.6228 - accuracy: 0.6598\n",
      "Epoch 6/80\n",
      "241/241 [==============================] - 1s 3ms/step - loss: 0.6079 - accuracy: 0.6929\n",
      "Epoch 7/80\n",
      "241/241 [==============================] - 1s 4ms/step - loss: 0.5937 - accuracy: 0.7012\n",
      "Epoch 8/80\n",
      "241/241 [==============================] - 1s 3ms/step - loss: 0.5804 - accuracy: 0.7220\n",
      "Epoch 9/80\n",
      "241/241 [==============================] - 1s 3ms/step - loss: 0.5670 - accuracy: 0.7635\n",
      "Epoch 10/80\n",
      "241/241 [==============================] - 1s 3ms/step - loss: 0.5550 - accuracy: 0.7593\n",
      "Epoch 11/80\n",
      "241/241 [==============================] - 1s 3ms/step - loss: 0.5434 - accuracy: 0.7801\n",
      "Epoch 12/80\n",
      "241/241 [==============================] - 1s 3ms/step - loss: 0.5324 - accuracy: 0.7884\n",
      "Epoch 13/80\n",
      "241/241 [==============================] - 1s 3ms/step - loss: 0.5219 - accuracy: 0.7967\n",
      "Epoch 14/80\n",
      "241/241 [==============================] - 1s 4ms/step - loss: 0.5117 - accuracy: 0.8133\n",
      "Epoch 15/80\n",
      "241/241 [==============================] - 1s 4ms/step - loss: 0.5024 - accuracy: 0.8008\n",
      "Epoch 16/80\n",
      "241/241 [==============================] - 1s 3ms/step - loss: 0.4942 - accuracy: 0.8216\n",
      "Epoch 17/80\n",
      "241/241 [==============================] - 1s 3ms/step - loss: 0.4863 - accuracy: 0.8257\n",
      "Epoch 18/80\n",
      "241/241 [==============================] - 1s 3ms/step - loss: 0.4787 - accuracy: 0.8382\n",
      "Epoch 19/80\n",
      "241/241 [==============================] - 1s 3ms/step - loss: 0.4716 - accuracy: 0.8382\n",
      "Epoch 20/80\n",
      "241/241 [==============================] - 1s 3ms/step - loss: 0.4649 - accuracy: 0.8340\n",
      "Epoch 21/80\n",
      "241/241 [==============================] - 1s 3ms/step - loss: 0.4584 - accuracy: 0.8340\n",
      "Epoch 22/80\n",
      "241/241 [==============================] - 1s 3ms/step - loss: 0.4518 - accuracy: 0.8382\n",
      "Epoch 23/80\n",
      "241/241 [==============================] - 1s 3ms/step - loss: 0.4455 - accuracy: 0.8299\n",
      "Epoch 24/80\n",
      "241/241 [==============================] - 1s 4ms/step - loss: 0.4399 - accuracy: 0.8382\n",
      "Epoch 25/80\n",
      "241/241 [==============================] - 1s 3ms/step - loss: 0.4337 - accuracy: 0.8340\n",
      "Epoch 26/80\n",
      "241/241 [==============================] - 1s 3ms/step - loss: 0.4282 - accuracy: 0.8465\n",
      "Epoch 27/80\n",
      "241/241 [==============================] - 1s 4ms/step - loss: 0.4233 - accuracy: 0.8382\n",
      "Epoch 28/80\n",
      "241/241 [==============================] - 1s 4ms/step - loss: 0.4179 - accuracy: 0.8589\n",
      "Epoch 29/80\n",
      "241/241 [==============================] - 1s 3ms/step - loss: 0.4130 - accuracy: 0.8589\n",
      "Epoch 30/80\n",
      "241/241 [==============================] - 1s 3ms/step - loss: 0.4082 - accuracy: 0.8672\n",
      "Epoch 31/80\n",
      "241/241 [==============================] - 1s 3ms/step - loss: 0.4040 - accuracy: 0.8755\n",
      "Epoch 32/80\n",
      "241/241 [==============================] - 1s 4ms/step - loss: 0.3995 - accuracy: 0.8797\n",
      "Epoch 33/80\n",
      "241/241 [==============================] - 1s 3ms/step - loss: 0.3955 - accuracy: 0.8797\n",
      "Epoch 34/80\n",
      "241/241 [==============================] - 1s 3ms/step - loss: 0.3914 - accuracy: 0.8755\n",
      "Epoch 35/80\n",
      "241/241 [==============================] - 1s 3ms/step - loss: 0.3877 - accuracy: 0.8838\n",
      "Epoch 36/80\n",
      "241/241 [==============================] - 1s 3ms/step - loss: 0.3841 - accuracy: 0.8838\n",
      "Epoch 37/80\n",
      "241/241 [==============================] - 1s 4ms/step - loss: 0.3807 - accuracy: 0.8838\n",
      "Epoch 38/80\n",
      "241/241 [==============================] - 1s 3ms/step - loss: 0.3771 - accuracy: 0.8838\n",
      "Epoch 39/80\n",
      "241/241 [==============================] - 1s 3ms/step - loss: 0.3742 - accuracy: 0.8838\n",
      "Epoch 40/80\n",
      "241/241 [==============================] - 1s 3ms/step - loss: 0.3708 - accuracy: 0.8880\n",
      "Epoch 41/80\n",
      "241/241 [==============================] - 1s 4ms/step - loss: 0.3679 - accuracy: 0.8838\n",
      "Epoch 42/80\n",
      "241/241 [==============================] - 1s 4ms/step - loss: 0.3643 - accuracy: 0.8880\n",
      "Epoch 43/80\n",
      "241/241 [==============================] - 1s 3ms/step - loss: 0.3615 - accuracy: 0.8921\n",
      "Epoch 44/80\n",
      "241/241 [==============================] - 1s 3ms/step - loss: 0.3590 - accuracy: 0.8880\n",
      "Epoch 45/80\n",
      "241/241 [==============================] - 1s 4ms/step - loss: 0.3561 - accuracy: 0.8880\n",
      "Epoch 46/80\n",
      "241/241 [==============================] - 1s 3ms/step - loss: 0.3536 - accuracy: 0.8921\n",
      "Epoch 47/80\n",
      "241/241 [==============================] - 1s 3ms/step - loss: 0.3510 - accuracy: 0.8880\n",
      "Epoch 48/80\n",
      "241/241 [==============================] - 1s 4ms/step - loss: 0.3483 - accuracy: 0.8921\n",
      "Epoch 49/80\n",
      "241/241 [==============================] - 1s 4ms/step - loss: 0.3458 - accuracy: 0.8921\n",
      "Epoch 50/80\n",
      "241/241 [==============================] - 1s 3ms/step - loss: 0.3433 - accuracy: 0.8921\n",
      "Epoch 51/80\n",
      "241/241 [==============================] - 1s 3ms/step - loss: 0.3409 - accuracy: 0.8921\n",
      "Epoch 52/80\n",
      "241/241 [==============================] - 1s 3ms/step - loss: 0.3387 - accuracy: 0.8921\n",
      "Epoch 53/80\n",
      "241/241 [==============================] - 1s 4ms/step - loss: 0.3364 - accuracy: 0.8921\n",
      "Epoch 54/80\n",
      "241/241 [==============================] - 1s 4ms/step - loss: 0.3341 - accuracy: 0.8921\n",
      "Epoch 55/80\n",
      "241/241 [==============================] - 1s 3ms/step - loss: 0.3320 - accuracy: 0.8921\n",
      "Epoch 56/80\n",
      "241/241 [==============================] - 1s 4ms/step - loss: 0.3296 - accuracy: 0.8921\n",
      "Epoch 57/80\n",
      "241/241 [==============================] - 1s 3ms/step - loss: 0.3272 - accuracy: 0.8963\n",
      "Epoch 58/80\n",
      "241/241 [==============================] - 1s 4ms/step - loss: 0.3251 - accuracy: 0.8963\n",
      "Epoch 59/80\n",
      "241/241 [==============================] - 1s 3ms/step - loss: 0.3230 - accuracy: 0.9004\n",
      "Epoch 60/80\n",
      "241/241 [==============================] - 1s 3ms/step - loss: 0.3211 - accuracy: 0.8963\n",
      "Epoch 61/80\n",
      "241/241 [==============================] - 1s 3ms/step - loss: 0.3186 - accuracy: 0.9004\n",
      "Epoch 62/80\n",
      "241/241 [==============================] - 1s 4ms/step - loss: 0.3167 - accuracy: 0.9004\n",
      "Epoch 63/80\n",
      "241/241 [==============================] - 1s 3ms/step - loss: 0.3144 - accuracy: 0.9004\n",
      "Epoch 64/80\n",
      "241/241 [==============================] - 1s 4ms/step - loss: 0.3127 - accuracy: 0.9004\n",
      "Epoch 65/80\n",
      "241/241 [==============================] - 1s 4ms/step - loss: 0.3109 - accuracy: 0.9004\n",
      "Epoch 66/80\n",
      "241/241 [==============================] - 1s 4ms/step - loss: 0.3090 - accuracy: 0.9087\n",
      "Epoch 67/80\n",
      "241/241 [==============================] - 1s 3ms/step - loss: 0.3069 - accuracy: 0.9087\n",
      "Epoch 68/80\n",
      "241/241 [==============================] - 1s 4ms/step - loss: 0.3049 - accuracy: 0.9087\n",
      "Epoch 69/80\n",
      "241/241 [==============================] - 1s 3ms/step - loss: 0.3034 - accuracy: 0.9087\n",
      "Epoch 70/80\n",
      "241/241 [==============================] - 1s 4ms/step - loss: 0.3011 - accuracy: 0.9087\n",
      "Epoch 71/80\n",
      "241/241 [==============================] - 1s 3ms/step - loss: 0.2993 - accuracy: 0.9087\n",
      "Epoch 72/80\n",
      "241/241 [==============================] - 1s 3ms/step - loss: 0.2979 - accuracy: 0.9087\n",
      "Epoch 73/80\n",
      "241/241 [==============================] - 1s 4ms/step - loss: 0.2961 - accuracy: 0.9087\n",
      "Epoch 74/80\n",
      "241/241 [==============================] - 1s 3ms/step - loss: 0.2941 - accuracy: 0.9087\n",
      "Epoch 75/80\n",
      "241/241 [==============================] - 1s 3ms/step - loss: 0.2923 - accuracy: 0.9087\n",
      "Epoch 76/80\n",
      "241/241 [==============================] - 1s 4ms/step - loss: 0.2906 - accuracy: 0.9170\n",
      "Epoch 77/80\n",
      "241/241 [==============================] - 1s 4ms/step - loss: 0.2897 - accuracy: 0.9129\n",
      "Epoch 78/80\n",
      "241/241 [==============================] - 1s 4ms/step - loss: 0.2874 - accuracy: 0.9170\n",
      "Epoch 79/80\n",
      "241/241 [==============================] - 1s 3ms/step - loss: 0.2857 - accuracy: 0.9212\n",
      "Epoch 80/80\n",
      "241/241 [==============================] - 1s 3ms/step - loss: 0.2841 - accuracy: 0.9212\n"
     ]
    },
    {
     "data": {
      "text/plain": [
       "<keras.src.callbacks.History at 0x1e73cecc450>"
      ]
     },
     "execution_count": 29,
     "metadata": {},
     "output_type": "execute_result"
    }
   ],
   "source": [
    "ann2 = tf.keras.models.Sequential([\n",
    "    tf.keras.layers.Dense(units=13, activation='relu'),   # Input layer\n",
    "    tf.keras.layers.Dense(units=7, activation='relu'),   # Hidden layer\n",
    "    tf.keras.layers.Dense(units=4, activation='relu'),   # Hidden layer\n",
    "    tf.keras.layers.Dense(units=1, activation='sigmoid') # Output layer\n",
    "])\n",
    "ann2.compile(optimizer = 'adamax', loss = 'binary_crossentropy', metrics = ['accuracy'])\n",
    "ann2.fit(X_train_scaled2, y_train, batch_size = 1, epochs = 80)"
   ]
  },
  {
   "cell_type": "code",
   "execution_count": 30,
   "id": "e87e2477",
   "metadata": {},
   "outputs": [
    {
     "name": "stdout",
     "output_type": "stream",
     "text": [
      "2/2 [==============================] - 0s 17ms/step\n",
      "With standardization:\n",
      "Neural Network Test Accuracy =  85.25 %\n",
      "\n",
      "Confusion matrix:\n",
      "[[24  5]\n",
      " [ 4 28]]\n",
      "              precision    recall  f1-score   support\n",
      "\n",
      "           0     0.8571    0.8276    0.8421        29\n",
      "           1     0.8485    0.8750    0.8615        32\n",
      "\n",
      "    accuracy                         0.8525        61\n",
      "   macro avg     0.8528    0.8513    0.8518        61\n",
      "weighted avg     0.8526    0.8525    0.8523        61\n",
      "\n"
     ]
    }
   ],
   "source": [
    "y_pre = ann2.predict(X_test_scaled2)\n",
    "y_pred = (y_pre > 0.5)\n",
    "cm = confusion_matrix(y_test, y_pred)\n",
    "\n",
    "acc2 = round(accuracy_score(y_test,y_pred)*100,2)\n",
    "print('With standardization:')\n",
    "print('Neural Network Test Accuracy = ' , acc2,'%')\n",
    "print()\n",
    "print('Confusion matrix:')\n",
    "print(cm)\n",
    "print(classification_report(y_test, y_pred, digits= 4))"
   ]
  },
  {
   "cell_type": "markdown",
   "id": "953676b6",
   "metadata": {
    "papermill": {
     "duration": 0.019315,
     "end_time": "2023-12-01T19:41:46.269695",
     "exception": false,
     "start_time": "2023-12-01T19:41:46.250380",
     "status": "completed"
    },
    "tags": []
   },
   "source": [
    "# Conclusion\n",
    "K-Nearest Neighbor Classifier with standardization has the best performance with a test accuracy 91.8% "
   ]
  }
 ],
 "metadata": {
  "kaggle": {
   "accelerator": "none",
   "dataSources": [
    {
     "datasetId": 1226038,
     "sourceId": 2047221,
     "sourceType": "datasetVersion"
    }
   ],
   "dockerImageVersionId": 30587,
   "isGpuEnabled": false,
   "isInternetEnabled": true,
   "language": "python",
   "sourceType": "notebook"
  },
  "kernelspec": {
   "display_name": "Python 3",
   "language": "python",
   "name": "python3"
  },
  "language_info": {
   "codemirror_mode": {
    "name": "ipython",
    "version": 3
   },
   "file_extension": ".py",
   "mimetype": "text/x-python",
   "name": "python",
   "nbconvert_exporter": "python",
   "pygments_lexer": "ipython3",
   "version": "3.11.4"
  },
  "papermill": {
   "default_parameters": {},
   "duration": 15.875372,
   "end_time": "2023-12-01T19:41:47.113724",
   "environment_variables": {},
   "exception": null,
   "input_path": "__notebook__.ipynb",
   "output_path": "__notebook__.ipynb",
   "parameters": {},
   "start_time": "2023-12-01T19:41:31.238352",
   "version": "2.4.0"
  }
 },
 "nbformat": 4,
 "nbformat_minor": 5
}
