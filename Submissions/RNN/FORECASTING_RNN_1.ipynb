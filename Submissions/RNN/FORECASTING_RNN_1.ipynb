{
 "cells": [
  {
   "cell_type": "code",
   "execution_count": 1,
   "metadata": {},
   "outputs": [],
   "source": [
    "import pandas as pd\n",
    "import numpy as np\n",
    "%matplotlib inline\n",
    "import matplotlib.pyplot as plt"
   ]
  },
  {
   "cell_type": "markdown",
   "metadata": {},
   "source": [
    "## Data\n",
    "- Simulate a Dataset using numpy.\n",
    "- linspace() is a packgae in numpy to create your numbers.\n",
    "- sin() function is a function that converts an input number to its equivalent sine value."
   ]
  },
  {
   "cell_type": "code",
   "execution_count": 2,
   "metadata": {},
   "outputs": [],
   "source": [
    "x = np.linspace(0,100,501)\n",
    "y = np.sin(x)"
   ]
  },
  {
   "cell_type": "code",
   "execution_count": 3,
   "metadata": {},
   "outputs": [
    {
     "data": {
      "text/plain": [
       "(array([  0. ,   0.2,   0.4,   0.6,   0.8,   1. ,   1.2,   1.4,   1.6,\n",
       "          1.8,   2. ,   2.2,   2.4,   2.6,   2.8,   3. ,   3.2,   3.4,\n",
       "          3.6,   3.8,   4. ,   4.2,   4.4,   4.6,   4.8,   5. ,   5.2,\n",
       "          5.4,   5.6,   5.8,   6. ,   6.2,   6.4,   6.6,   6.8,   7. ,\n",
       "          7.2,   7.4,   7.6,   7.8,   8. ,   8.2,   8.4,   8.6,   8.8,\n",
       "          9. ,   9.2,   9.4,   9.6,   9.8,  10. ,  10.2,  10.4,  10.6,\n",
       "         10.8,  11. ,  11.2,  11.4,  11.6,  11.8,  12. ,  12.2,  12.4,\n",
       "         12.6,  12.8,  13. ,  13.2,  13.4,  13.6,  13.8,  14. ,  14.2,\n",
       "         14.4,  14.6,  14.8,  15. ,  15.2,  15.4,  15.6,  15.8,  16. ,\n",
       "         16.2,  16.4,  16.6,  16.8,  17. ,  17.2,  17.4,  17.6,  17.8,\n",
       "         18. ,  18.2,  18.4,  18.6,  18.8,  19. ,  19.2,  19.4,  19.6,\n",
       "         19.8,  20. ,  20.2,  20.4,  20.6,  20.8,  21. ,  21.2,  21.4,\n",
       "         21.6,  21.8,  22. ,  22.2,  22.4,  22.6,  22.8,  23. ,  23.2,\n",
       "         23.4,  23.6,  23.8,  24. ,  24.2,  24.4,  24.6,  24.8,  25. ,\n",
       "         25.2,  25.4,  25.6,  25.8,  26. ,  26.2,  26.4,  26.6,  26.8,\n",
       "         27. ,  27.2,  27.4,  27.6,  27.8,  28. ,  28.2,  28.4,  28.6,\n",
       "         28.8,  29. ,  29.2,  29.4,  29.6,  29.8,  30. ,  30.2,  30.4,\n",
       "         30.6,  30.8,  31. ,  31.2,  31.4,  31.6,  31.8,  32. ,  32.2,\n",
       "         32.4,  32.6,  32.8,  33. ,  33.2,  33.4,  33.6,  33.8,  34. ,\n",
       "         34.2,  34.4,  34.6,  34.8,  35. ,  35.2,  35.4,  35.6,  35.8,\n",
       "         36. ,  36.2,  36.4,  36.6,  36.8,  37. ,  37.2,  37.4,  37.6,\n",
       "         37.8,  38. ,  38.2,  38.4,  38.6,  38.8,  39. ,  39.2,  39.4,\n",
       "         39.6,  39.8,  40. ,  40.2,  40.4,  40.6,  40.8,  41. ,  41.2,\n",
       "         41.4,  41.6,  41.8,  42. ,  42.2,  42.4,  42.6,  42.8,  43. ,\n",
       "         43.2,  43.4,  43.6,  43.8,  44. ,  44.2,  44.4,  44.6,  44.8,\n",
       "         45. ,  45.2,  45.4,  45.6,  45.8,  46. ,  46.2,  46.4,  46.6,\n",
       "         46.8,  47. ,  47.2,  47.4,  47.6,  47.8,  48. ,  48.2,  48.4,\n",
       "         48.6,  48.8,  49. ,  49.2,  49.4,  49.6,  49.8,  50. ,  50.2,\n",
       "         50.4,  50.6,  50.8,  51. ,  51.2,  51.4,  51.6,  51.8,  52. ,\n",
       "         52.2,  52.4,  52.6,  52.8,  53. ,  53.2,  53.4,  53.6,  53.8,\n",
       "         54. ,  54.2,  54.4,  54.6,  54.8,  55. ,  55.2,  55.4,  55.6,\n",
       "         55.8,  56. ,  56.2,  56.4,  56.6,  56.8,  57. ,  57.2,  57.4,\n",
       "         57.6,  57.8,  58. ,  58.2,  58.4,  58.6,  58.8,  59. ,  59.2,\n",
       "         59.4,  59.6,  59.8,  60. ,  60.2,  60.4,  60.6,  60.8,  61. ,\n",
       "         61.2,  61.4,  61.6,  61.8,  62. ,  62.2,  62.4,  62.6,  62.8,\n",
       "         63. ,  63.2,  63.4,  63.6,  63.8,  64. ,  64.2,  64.4,  64.6,\n",
       "         64.8,  65. ,  65.2,  65.4,  65.6,  65.8,  66. ,  66.2,  66.4,\n",
       "         66.6,  66.8,  67. ,  67.2,  67.4,  67.6,  67.8,  68. ,  68.2,\n",
       "         68.4,  68.6,  68.8,  69. ,  69.2,  69.4,  69.6,  69.8,  70. ,\n",
       "         70.2,  70.4,  70.6,  70.8,  71. ,  71.2,  71.4,  71.6,  71.8,\n",
       "         72. ,  72.2,  72.4,  72.6,  72.8,  73. ,  73.2,  73.4,  73.6,\n",
       "         73.8,  74. ,  74.2,  74.4,  74.6,  74.8,  75. ,  75.2,  75.4,\n",
       "         75.6,  75.8,  76. ,  76.2,  76.4,  76.6,  76.8,  77. ,  77.2,\n",
       "         77.4,  77.6,  77.8,  78. ,  78.2,  78.4,  78.6,  78.8,  79. ,\n",
       "         79.2,  79.4,  79.6,  79.8,  80. ,  80.2,  80.4,  80.6,  80.8,\n",
       "         81. ,  81.2,  81.4,  81.6,  81.8,  82. ,  82.2,  82.4,  82.6,\n",
       "         82.8,  83. ,  83.2,  83.4,  83.6,  83.8,  84. ,  84.2,  84.4,\n",
       "         84.6,  84.8,  85. ,  85.2,  85.4,  85.6,  85.8,  86. ,  86.2,\n",
       "         86.4,  86.6,  86.8,  87. ,  87.2,  87.4,  87.6,  87.8,  88. ,\n",
       "         88.2,  88.4,  88.6,  88.8,  89. ,  89.2,  89.4,  89.6,  89.8,\n",
       "         90. ,  90.2,  90.4,  90.6,  90.8,  91. ,  91.2,  91.4,  91.6,\n",
       "         91.8,  92. ,  92.2,  92.4,  92.6,  92.8,  93. ,  93.2,  93.4,\n",
       "         93.6,  93.8,  94. ,  94.2,  94.4,  94.6,  94.8,  95. ,  95.2,\n",
       "         95.4,  95.6,  95.8,  96. ,  96.2,  96.4,  96.6,  96.8,  97. ,\n",
       "         97.2,  97.4,  97.6,  97.8,  98. ,  98.2,  98.4,  98.6,  98.8,\n",
       "         99. ,  99.2,  99.4,  99.6,  99.8, 100. ]),\n",
       " array([ 0.        ,  0.19866933,  0.38941834,  0.56464247,  0.71735609,\n",
       "         0.84147098,  0.93203909,  0.98544973,  0.9995736 ,  0.97384763,\n",
       "         0.90929743,  0.8084964 ,  0.67546318,  0.51550137,  0.33498815,\n",
       "         0.14112001, -0.05837414, -0.2555411 , -0.44252044, -0.61185789,\n",
       "        -0.7568025 , -0.87157577, -0.95160207, -0.993691  , -0.99616461,\n",
       "        -0.95892427, -0.88345466, -0.77276449, -0.63126664, -0.46460218,\n",
       "        -0.2794155 , -0.0830894 ,  0.1165492 ,  0.31154136,  0.49411335,\n",
       "         0.6569866 ,  0.79366786,  0.8987081 ,  0.96791967,  0.99854335,\n",
       "         0.98935825,  0.94073056,  0.85459891,  0.7343971 ,  0.58491719,\n",
       "         0.41211849,  0.22288991,  0.02477543, -0.17432678, -0.36647913,\n",
       "        -0.54402111, -0.69987469, -0.82782647, -0.92277542, -0.98093623,\n",
       "        -0.99999021, -0.97917773, -0.91932853, -0.82282859, -0.69352508,\n",
       "        -0.53657292, -0.35822928, -0.16560418,  0.03362305,  0.23150983,\n",
       "         0.42016704,  0.59207351,  0.74037589,  0.85916181,  0.94369567,\n",
       "         0.99060736,  0.99802665,  0.96565778,  0.89479117,  0.78825207,\n",
       "         0.65028784,  0.48639869,  0.30311836,  0.10775365, -0.09190685,\n",
       "        -0.28790332, -0.47242199, -0.63810668, -0.77835208, -0.88756703,\n",
       "        -0.96139749, -0.99690007, -0.99265938, -0.9488445 , -0.86720218,\n",
       "        -0.75098725, -0.60483282, -0.43456562, -0.24697366, -0.04953564,\n",
       "         0.14987721,  0.34331493,  0.52306577,  0.68196362,  0.81367374,\n",
       "         0.91294525,  0.97582052,  0.9997929 ,  0.98390669,  0.92879523,\n",
       "         0.83665564,  0.71116122,  0.55731505,  0.38125049,  0.18998668,\n",
       "        -0.00885131, -0.20733642, -0.39755568, -0.57192566, -0.72349476,\n",
       "        -0.8462204 , -0.93520992, -0.98691556, -0.99927599, -0.97179845,\n",
       "        -0.90557836, -0.80325573, -0.66890982, -0.50789659, -0.32663513,\n",
       "        -0.13235175,  0.06720807,  0.26408852,  0.45044059,  0.61883502,\n",
       "         0.76255845,  0.87588108,  0.95428509,  0.99464477,  0.9953511 ,\n",
       "         0.95637593,  0.87927306,  0.76711635,  0.62437714,  0.45674597,\n",
       "         0.27090579,  0.07426545, -0.12533563, -0.31993996, -0.5017893 ,\n",
       "        -0.66363388, -0.79902148, -0.90255461, -0.97010573, -0.9989818 ,\n",
       "        -0.98803162, -0.93769174, -0.84996905, -0.72836077, -0.57771504,\n",
       "        -0.40403765, -0.21425254, -0.01592586,  0.18303573,  0.37470026,\n",
       "         0.55142668,  0.70616946,  0.83275949,  0.92615002,  0.98261788,\n",
       "         0.99991186,  0.97734251,  0.9158096 ,  0.81776625,  0.68712115,\n",
       "         0.52908269,  0.34995137,  0.1568686 , -0.04246803, -0.2401116 ,\n",
       "        -0.42818267, -0.59918345, -0.74629668, -0.86365741, -0.94658685,\n",
       "        -0.99177885, -0.99743177, -0.96332022, -0.89080414, -0.78277451,\n",
       "        -0.64353813, -0.47864592, -0.2946716 , -0.09894966,  0.1007171 ,\n",
       "         0.29636858,  0.48020478,  0.64489673,  0.78387869,  0.89160987,\n",
       "         0.96379539,  0.99755742,  0.99154999,  0.94601258,  0.86276064,\n",
       "         0.74511316,  0.59776037,  0.42657675,  0.23838687,  0.04069326,\n",
       "        -0.15862267, -0.35161481, -0.53058918, -0.68841063, -0.81878732,\n",
       "        -0.91652155, -0.97771695, -0.99993387, -0.98228657, -0.92547861,\n",
       "        -0.83177474, -0.70491064, -0.54994397, -0.37305277, -0.18128914,\n",
       "         0.01770193,  0.21598727,  0.40566188,  0.57916403,  0.72957674,\n",
       "         0.85090352,  0.93830747,  0.98830406,  0.99890009,  0.96967312,\n",
       "         0.90178835,  0.79795212,  0.66230405,  0.50025202,  0.31825651,\n",
       "         0.12357312, -0.07603674, -0.27261525, -0.45832545, -0.62576367,\n",
       "        -0.76825466, -0.88011776, -0.95689335, -0.99552062, -0.99445962,\n",
       "        -0.95375265, -0.87502258, -0.76140812, -0.61743871, -0.44885398,\n",
       "        -0.26237485, -0.06543567,  0.13411223,  0.32831349,  0.50942594,\n",
       "         0.67022918,  0.80431249,  0.90633041,  0.97221579,  0.999342  ,\n",
       "         0.98662759,  0.93457946,  0.84527259,  0.72226737,  0.57046763,\n",
       "         0.39592515,  0.20559838,  0.00707505, -0.19173034, -0.38289204,\n",
       "        -0.55878905, -0.7124089 , -0.83762726, -0.92945206, -0.98422254,\n",
       "        -0.99975517, -0.97543072, -0.91221893, -0.81263984, -0.68066337,\n",
       "        -0.521551  , -0.34164604, -0.14812072,  0.05130969,  0.24869456,\n",
       "         0.43616476,  0.60624644,  0.75215899,  0.86808534,  0.94940386,\n",
       "         0.99287265,  0.99675874,  0.9609072 ,  0.88674732,  0.77723563,\n",
       "         0.63673801,  0.47085565,  0.28620176,  0.09013791, -0.10951945,\n",
       "        -0.30481062, -0.48794995, -0.65163626, -0.78934388, -0.89558286,\n",
       "        -0.96611777, -0.99813662, -0.9903629 , -0.94310655, -0.85825151,\n",
       "        -0.7391807 , -0.59064108, -0.41855446, -0.2297814 , -0.03184769,\n",
       "         0.1673557 ,  0.35988714,  0.53807102,  0.6948037 ,  0.82383676,\n",
       "         0.92002604,  0.97953678,  0.99999649,  0.98058949,  0.92208948,\n",
       "         0.82682868,  0.69860482,  0.5425298 ,  0.36482582,  0.17257739,\n",
       "        -0.02655115, -0.22462119, -0.41373629, -0.58635703, -0.73560156,\n",
       "        -0.85551998, -0.94133152, -0.98961514, -0.99844593, -0.96747183,\n",
       "        -0.89792768, -0.79258599, -0.6556464 , -0.49256825, -0.30985296,\n",
       "        -0.11478481,  0.08485944,  0.28112062,  0.46617441,  0.63264329,\n",
       "         0.77389068,  0.88428549,  0.95942663,  0.99631846,  0.99349022,\n",
       "         0.95105465,  0.87070354,  0.75564023,  0.61045192,  0.44092682,\n",
       "         0.25382336,  0.05660077, -0.14287832, -0.3366613 , -0.51702266,\n",
       "        -0.67677196, -0.80954049, -0.9100352 , -0.97424968, -0.99962389,\n",
       "        -0.98514626, -0.93139395, -0.84050991, -0.71611739, -0.56317553,\n",
       "        -0.38778164, -0.19692811,  0.00177631,  0.20040992,  0.39105382,\n",
       "         0.56610764,  0.71859253,  0.8424294 ,  0.93268128,  0.98575009,\n",
       "         0.99952016,  0.97344251,  0.90855679,  0.80744977,  0.67415227,\n",
       "         0.51397846,  0.33331394,  0.13936125, -0.06014734, -0.25725803,\n",
       "        -0.44411267, -0.61326193, -0.75796238, -0.87244525, -0.95214649,\n",
       "        -0.99388865, -0.99600761, -0.95841889, -0.88262103, -0.77163586,\n",
       "        -0.62988799, -0.46302849, -0.27770949, -0.0813191 ,  0.11831323,\n",
       "         0.31322878,  0.49565689,  0.65832473,  0.79474723,  0.89948568,\n",
       "         0.96836446,  0.99863761,  0.98909823,  0.94012663,  0.85367514,\n",
       "         0.73319032,  0.58347552,  0.41049938,  0.22115794,  0.02299962,\n",
       "        -0.17607562, -0.36813128, -0.54551071, -0.70114234, -0.82882165,\n",
       "        -0.92345845, -0.98127987, -0.99998077, -0.97881558, -0.91862811,\n",
       "        -0.82181784, -0.69224428, -0.53507312, -0.35657029, -0.16385213,\n",
       "         0.0353983 ,  0.23323751,  0.42177828,  0.59350408,  0.74156875,\n",
       "         0.86006941,  0.94428181,  0.99084868,  0.99791354,  0.96519474,\n",
       "         0.89399666,  0.78715777,  0.64893737,  0.48484589,  0.30142514,\n",
       "         0.10598751, -0.0936755 , -0.28960397, -0.47398683, -0.63947334,\n",
       "        -0.77946607, -0.88838394, -0.96188475, -0.99703825, -0.99244298,\n",
       "        -0.94828214, -0.86631629, -0.74981313, -0.6034173 , -0.43296512,\n",
       "        -0.24525199, -0.04776143,  0.15163322,  0.34498274,  0.52457888,\n",
       "         0.68326171,  0.81470506,  0.91366869,  0.97620723,  0.99982747,\n",
       "         0.98358775,  0.92813548,  0.83568138,  0.7099113 ,  0.5558393 ,\n",
       "         0.37960774,  0.18824242, -0.01062754, -0.20907381, -0.39918496,\n",
       "        -0.57338187, -0.72471986, -0.84716555, -0.93583742, -0.98720041,\n",
       "        -0.99920683, -0.97137803, -0.90482346, -0.80219643, -0.66758835,\n",
       "        -0.50636564]))"
      ]
     },
     "execution_count": 3,
     "metadata": {},
     "output_type": "execute_result"
    }
   ],
   "source": [
    "x, y"
   ]
  },
  {
   "cell_type": "code",
   "execution_count": 4,
   "metadata": {},
   "outputs": [
    {
     "data": {
      "text/plain": [
       "[<matplotlib.lines.Line2D at 0x18f756695d0>]"
      ]
     },
     "execution_count": 4,
     "metadata": {},
     "output_type": "execute_result"
    },
    {
     "data": {
      "image/png": "[encoded data removed]",
      "text/plain": [
       "<Figure size 640x480 with 1 Axes>"
      ]
     },
     "metadata": {},
     "output_type": "display_data"
    }
   ],
   "source": [
    "plt.plot(x,y)"
   ]
  },
  {
   "cell_type": "markdown",
   "metadata": {},
   "source": [
    "- Transform the data into a dataframe."
   ]
  },
  {
   "cell_type": "code",
   "execution_count": 5,
   "metadata": {},
   "outputs": [],
   "source": [
    "df = pd.DataFrame(data=y,index=x,columns=['Sine'])\n",
    "df"
   ]
  },
  {
   "cell_type": "markdown",
   "metadata": {},
   "source": [
    "## Train Test Split\n",
    "\n",
    "- Note that in splitting a time series dataset DO NOT PERFORM RANDOM SPLIT!\n",
    "- The split should be sequential, example if you are given a data from January to December, the training data can be from Jan 1 to Dec 14, while the testing data is from Dec 15-31."
   ]
  },
  {
   "cell_type": "code",
   "execution_count": 74,
   "metadata": {},
   "outputs": [
    {
     "name": "stdout",
     "output_type": "stream",
     "text": [
      "Test Point: 50.0\n",
      "Test Index: 451\n"
     ]
    }
   ],
   "source": [
    "len(df)\n",
    "test_percent = 0.1\n",
    "test_point = np.round(len(df)*test_percent)\n",
    "print(f\"Test Point: {test_point}\")\n",
    "test_ind = int(len(df) - test_point)\n",
    "print(f\"Test Index: {test_ind}\")"
   ]
  },
  {
   "cell_type": "code",
   "execution_count": 13,
   "metadata": {},
   "outputs": [],
   "source": [
    "train = df.iloc[:test_ind]\n",
    "test = df.iloc[test_ind:]"
   ]
  },
  {
   "cell_type": "code",
   "execution_count": 14,
   "metadata": {},
   "outputs": [
    {
     "data": {
      "text/html": [
       "<div>\n",
       "<style scoped>\n",
       "    .dataframe tbody tr th:only-of-type {\n",
       "        vertical-align: middle;\n",
       "    }\n",
       "\n",
       "    .dataframe tbody tr th {\n",
       "        vertical-align: top;\n",
       "    }\n",
       "\n",
       "    .dataframe thead th {\n",
       "        text-align: right;\n",
       "    }\n",
       "</style>\n",
       "<table border=\"1\" class=\"dataframe\">\n",
       "  <thead>\n",
       "    <tr style=\"text-align: right;\">\n",
       "      <th></th>\n",
       "      <th>Sine</th>\n",
       "    </tr>\n",
       "  </thead>\n",
       "  <tbody>\n",
       "    <tr>\n",
       "      <th>0.0</th>\n",
       "      <td>0.000000</td>\n",
       "    </tr>\n",
       "    <tr>\n",
       "      <th>0.2</th>\n",
       "      <td>0.198669</td>\n",
       "    </tr>\n",
       "    <tr>\n",
       "      <th>0.4</th>\n",
       "      <td>0.389418</td>\n",
       "    </tr>\n",
       "    <tr>\n",
       "      <th>0.6</th>\n",
       "      <td>0.564642</td>\n",
       "    </tr>\n",
       "    <tr>\n",
       "      <th>0.8</th>\n",
       "      <td>0.717356</td>\n",
       "    </tr>\n",
       "    <tr>\n",
       "      <th>...</th>\n",
       "      <td>...</td>\n",
       "    </tr>\n",
       "    <tr>\n",
       "      <th>89.2</th>\n",
       "      <td>0.944282</td>\n",
       "    </tr>\n",
       "    <tr>\n",
       "      <th>89.4</th>\n",
       "      <td>0.990849</td>\n",
       "    </tr>\n",
       "    <tr>\n",
       "      <th>89.6</th>\n",
       "      <td>0.997914</td>\n",
       "    </tr>\n",
       "    <tr>\n",
       "      <th>89.8</th>\n",
       "      <td>0.965195</td>\n",
       "    </tr>\n",
       "    <tr>\n",
       "      <th>90.0</th>\n",
       "      <td>0.893997</td>\n",
       "    </tr>\n",
       "  </tbody>\n",
       "</table>\n",
       "<p>451 rows × 1 columns</p>\n",
       "</div>"
      ],
      "text/plain": [
       "          Sine\n",
       "0.0   0.000000\n",
       "0.2   0.198669\n",
       "0.4   0.389418\n",
       "0.6   0.564642\n",
       "0.8   0.717356\n",
       "...        ...\n",
       "89.2  0.944282\n",
       "89.4  0.990849\n",
       "89.6  0.997914\n",
       "89.8  0.965195\n",
       "90.0  0.893997\n",
       "\n",
       "[451 rows x 1 columns]"
      ]
     },
     "execution_count": 14,
     "metadata": {},
     "output_type": "execute_result"
    }
   ],
   "source": [
    "train"
   ]
  },
  {
   "cell_type": "code",
   "execution_count": 15,
   "metadata": {},
   "outputs": [
    {
     "data": {
      "text/html": [
       "<div>\n",
       "<style scoped>\n",
       "    .dataframe tbody tr th:only-of-type {\n",
       "        vertical-align: middle;\n",
       "    }\n",
       "\n",
       "    .dataframe tbody tr th {\n",
       "        vertical-align: top;\n",
       "    }\n",
       "\n",
       "    .dataframe thead th {\n",
       "        text-align: right;\n",
       "    }\n",
       "</style>\n",
       "<table border=\"1\" class=\"dataframe\">\n",
       "  <thead>\n",
       "    <tr style=\"text-align: right;\">\n",
       "      <th></th>\n",
       "      <th>Sine</th>\n",
       "    </tr>\n",
       "  </thead>\n",
       "  <tbody>\n",
       "    <tr>\n",
       "      <th>90.2</th>\n",
       "      <td>0.787158</td>\n",
       "    </tr>\n",
       "    <tr>\n",
       "      <th>90.4</th>\n",
       "      <td>0.648937</td>\n",
       "    </tr>\n",
       "    <tr>\n",
       "      <th>90.6</th>\n",
       "      <td>0.484846</td>\n",
       "    </tr>\n",
       "    <tr>\n",
       "      <th>90.8</th>\n",
       "      <td>0.301425</td>\n",
       "    </tr>\n",
       "    <tr>\n",
       "      <th>91.0</th>\n",
       "      <td>0.105988</td>\n",
       "    </tr>\n",
       "    <tr>\n",
       "      <th>91.2</th>\n",
       "      <td>-0.093676</td>\n",
       "    </tr>\n",
       "    <tr>\n",
       "      <th>91.4</th>\n",
       "      <td>-0.289604</td>\n",
       "    </tr>\n",
       "    <tr>\n",
       "      <th>91.6</th>\n",
       "      <td>-0.473987</td>\n",
       "    </tr>\n",
       "    <tr>\n",
       "      <th>91.8</th>\n",
       "      <td>-0.639473</td>\n",
       "    </tr>\n",
       "    <tr>\n",
       "      <th>92.0</th>\n",
       "      <td>-0.779466</td>\n",
       "    </tr>\n",
       "    <tr>\n",
       "      <th>92.2</th>\n",
       "      <td>-0.888384</td>\n",
       "    </tr>\n",
       "    <tr>\n",
       "      <th>92.4</th>\n",
       "      <td>-0.961885</td>\n",
       "    </tr>\n",
       "    <tr>\n",
       "      <th>92.6</th>\n",
       "      <td>-0.997038</td>\n",
       "    </tr>\n",
       "    <tr>\n",
       "      <th>92.8</th>\n",
       "      <td>-0.992443</td>\n",
       "    </tr>\n",
       "    <tr>\n",
       "      <th>93.0</th>\n",
       "      <td>-0.948282</td>\n",
       "    </tr>\n",
       "    <tr>\n",
       "      <th>93.2</th>\n",
       "      <td>-0.866316</td>\n",
       "    </tr>\n",
       "    <tr>\n",
       "      <th>93.4</th>\n",
       "      <td>-0.749813</td>\n",
       "    </tr>\n",
       "    <tr>\n",
       "      <th>93.6</th>\n",
       "      <td>-0.603417</td>\n",
       "    </tr>\n",
       "    <tr>\n",
       "      <th>93.8</th>\n",
       "      <td>-0.432965</td>\n",
       "    </tr>\n",
       "    <tr>\n",
       "      <th>94.0</th>\n",
       "      <td>-0.245252</td>\n",
       "    </tr>\n",
       "    <tr>\n",
       "      <th>94.2</th>\n",
       "      <td>-0.047761</td>\n",
       "    </tr>\n",
       "    <tr>\n",
       "      <th>94.4</th>\n",
       "      <td>0.151633</td>\n",
       "    </tr>\n",
       "    <tr>\n",
       "      <th>94.6</th>\n",
       "      <td>0.344983</td>\n",
       "    </tr>\n",
       "    <tr>\n",
       "      <th>94.8</th>\n",
       "      <td>0.524579</td>\n",
       "    </tr>\n",
       "    <tr>\n",
       "      <th>95.0</th>\n",
       "      <td>0.683262</td>\n",
       "    </tr>\n",
       "    <tr>\n",
       "      <th>95.2</th>\n",
       "      <td>0.814705</td>\n",
       "    </tr>\n",
       "    <tr>\n",
       "      <th>95.4</th>\n",
       "      <td>0.913669</td>\n",
       "    </tr>\n",
       "    <tr>\n",
       "      <th>95.6</th>\n",
       "      <td>0.976207</td>\n",
       "    </tr>\n",
       "    <tr>\n",
       "      <th>95.8</th>\n",
       "      <td>0.999827</td>\n",
       "    </tr>\n",
       "    <tr>\n",
       "      <th>96.0</th>\n",
       "      <td>0.983588</td>\n",
       "    </tr>\n",
       "    <tr>\n",
       "      <th>96.2</th>\n",
       "      <td>0.928135</td>\n",
       "    </tr>\n",
       "    <tr>\n",
       "      <th>96.4</th>\n",
       "      <td>0.835681</td>\n",
       "    </tr>\n",
       "    <tr>\n",
       "      <th>96.6</th>\n",
       "      <td>0.709911</td>\n",
       "    </tr>\n",
       "    <tr>\n",
       "      <th>96.8</th>\n",
       "      <td>0.555839</td>\n",
       "    </tr>\n",
       "    <tr>\n",
       "      <th>97.0</th>\n",
       "      <td>0.379608</td>\n",
       "    </tr>\n",
       "    <tr>\n",
       "      <th>97.2</th>\n",
       "      <td>0.188242</td>\n",
       "    </tr>\n",
       "    <tr>\n",
       "      <th>97.4</th>\n",
       "      <td>-0.010628</td>\n",
       "    </tr>\n",
       "    <tr>\n",
       "      <th>97.6</th>\n",
       "      <td>-0.209074</td>\n",
       "    </tr>\n",
       "    <tr>\n",
       "      <th>97.8</th>\n",
       "      <td>-0.399185</td>\n",
       "    </tr>\n",
       "    <tr>\n",
       "      <th>98.0</th>\n",
       "      <td>-0.573382</td>\n",
       "    </tr>\n",
       "    <tr>\n",
       "      <th>98.2</th>\n",
       "      <td>-0.724720</td>\n",
       "    </tr>\n",
       "    <tr>\n",
       "      <th>98.4</th>\n",
       "      <td>-0.847166</td>\n",
       "    </tr>\n",
       "    <tr>\n",
       "      <th>98.6</th>\n",
       "      <td>-0.935837</td>\n",
       "    </tr>\n",
       "    <tr>\n",
       "      <th>98.8</th>\n",
       "      <td>-0.987200</td>\n",
       "    </tr>\n",
       "    <tr>\n",
       "      <th>99.0</th>\n",
       "      <td>-0.999207</td>\n",
       "    </tr>\n",
       "    <tr>\n",
       "      <th>99.2</th>\n",
       "      <td>-0.971378</td>\n",
       "    </tr>\n",
       "    <tr>\n",
       "      <th>99.4</th>\n",
       "      <td>-0.904823</td>\n",
       "    </tr>\n",
       "    <tr>\n",
       "      <th>99.6</th>\n",
       "      <td>-0.802196</td>\n",
       "    </tr>\n",
       "    <tr>\n",
       "      <th>99.8</th>\n",
       "      <td>-0.667588</td>\n",
       "    </tr>\n",
       "    <tr>\n",
       "      <th>100.0</th>\n",
       "      <td>-0.506366</td>\n",
       "    </tr>\n",
       "  </tbody>\n",
       "</table>\n",
       "</div>"
      ],
      "text/plain": [
       "           Sine\n",
       "90.2   0.787158\n",
       "90.4   0.648937\n",
       "90.6   0.484846\n",
       "90.8   0.301425\n",
       "91.0   0.105988\n",
       "91.2  -0.093676\n",
       "91.4  -0.289604\n",
       "91.6  -0.473987\n",
       "91.8  -0.639473\n",
       "92.0  -0.779466\n",
       "92.2  -0.888384\n",
       "92.4  -0.961885\n",
       "92.6  -0.997038\n",
       "92.8  -0.992443\n",
       "93.0  -0.948282\n",
       "93.2  -0.866316\n",
       "93.4  -0.749813\n",
       "93.6  -0.603417\n",
       "93.8  -0.432965\n",
       "94.0  -0.245252\n",
       "94.2  -0.047761\n",
       "94.4   0.151633\n",
       "94.6   0.344983\n",
       "94.8   0.524579\n",
       "95.0   0.683262\n",
       "95.2   0.814705\n",
       "95.4   0.913669\n",
       "95.6   0.976207\n",
       "95.8   0.999827\n",
       "96.0   0.983588\n",
       "96.2   0.928135\n",
       "96.4   0.835681\n",
       "96.6   0.709911\n",
       "96.8   0.555839\n",
       "97.0   0.379608\n",
       "97.2   0.188242\n",
       "97.4  -0.010628\n",
       "97.6  -0.209074\n",
       "97.8  -0.399185\n",
       "98.0  -0.573382\n",
       "98.2  -0.724720\n",
       "98.4  -0.847166\n",
       "98.6  -0.935837\n",
       "98.8  -0.987200\n",
       "99.0  -0.999207\n",
       "99.2  -0.971378\n",
       "99.4  -0.904823\n",
       "99.6  -0.802196\n",
       "99.8  -0.667588\n",
       "100.0 -0.506366"
      ]
     },
     "execution_count": 15,
     "metadata": {},
     "output_type": "execute_result"
    }
   ],
   "source": [
    "test"
   ]
  },
  {
   "cell_type": "markdown",
   "metadata": {},
   "source": [
    "## Scale Data"
   ]
  },
  {
   "cell_type": "code",
   "execution_count": 16,
   "metadata": {},
   "outputs": [],
   "source": [
    "from sklearn.preprocessing import MinMaxScaler"
   ]
  },
  {
   "cell_type": "code",
   "execution_count": 17,
   "metadata": {},
   "outputs": [],
   "source": [
    "scaler = MinMaxScaler()\n",
    "scaler.fit(train)"
   ]
  },
  {
   "cell_type": "markdown",
   "metadata": {},
   "source": [
    "- The warning can be ignored, it is just telling us that python is converting the input into floats.\n",
    "- Fit the training data"
   ]
  },
  {
   "cell_type": "code",
   "execution_count": 19,
   "metadata": {},
   "outputs": [],
   "source": [
    "scaled_train = scaler.transform(train)\n",
    "scaled_test = scaler.transform(test)"
   ]
  },
  {
   "cell_type": "markdown",
   "metadata": {},
   "source": [
    "# Time Series Generator\n",
    "\n",
    "This class takes in a sequence of data-points gathered at\n",
    "equal intervals, along with time series parameters such as\n",
    "stride, length of history, etc., to produce batches for\n",
    "training/validation.\n",
    "\n",
    "#### Arguments\n",
    "    data: Indexable generator (such as list or Numpy array)\n",
    "        containing consecutive data points (timesteps).\n",
    "        The data should be at 2D, and axis 0 is expected\n",
    "        to be the time dimension.\n",
    "    targets: Targets corresponding to timesteps in `data`.\n",
    "        It should have same length as `data`.\n",
    "    length: Length of the output sequences (in number of timesteps).\n",
    "    sampling_rate: Period between successive individual timesteps\n",
    "        within sequences. For rate `r`, timesteps\n",
    "        `data[i]`, `data[i-r]`, ... `data[i - length]`\n",
    "        are used for create a sample sequence.\n",
    "    stride: Period between successive output sequences.\n",
    "        For stride `s`, consecutive output samples would\n",
    "        be centered around `data[i]`, `data[i+s]`, `data[i+2*s]`, etc.\n",
    "    start_index: Data points earlier than `start_index` will not be used\n",
    "        in the output sequences. This is useful to reserve part of the\n",
    "        data for test or validation.\n",
    "    end_index: Data points later than `end_index` will not be used\n",
    "        in the output sequences. This is useful to reserve part of the\n",
    "        data for test or validation.\n",
    "    shuffle: Whether to shuffle output samples,\n",
    "        or instead draw them in chronological order.\n",
    "    reverse: Boolean: if `true`, timesteps in each output sample will be\n",
    "        in reverse chronological order.\n",
    "    batch_size: Number of timeseries samples in each batch\n",
    "        (except maybe the last one)."
   ]
  },
  {
   "cell_type": "code",
   "execution_count": 20,
   "metadata": {},
   "outputs": [],
   "source": [
    "from tensorflow.keras.preprocessing.sequence import TimeseriesGenerator"
   ]
  },
  {
   "cell_type": "code",
   "execution_count": 22,
   "metadata": {},
   "outputs": [],
   "source": [
    "# define generator\n",
    "length = 2 # Length of the output sequences (in number of timesteps)\n",
    "batch_size = 1 #Number of timeseries samples in each batch\n",
    "generator = TimeseriesGenerator(scaled_train, scaled_train, length=length, batch_size=batch_size)"
   ]
  },
  {
   "cell_type": "code",
   "execution_count": 23,
   "metadata": {},
   "outputs": [
    {
     "data": {
      "text/plain": [
       "451"
      ]
     },
     "execution_count": 23,
     "metadata": {},
     "output_type": "execute_result"
    }
   ],
   "source": [
    "len(scaled_train)"
   ]
  },
  {
   "cell_type": "code",
   "execution_count": 24,
   "metadata": {},
   "outputs": [
    {
     "data": {
      "text/plain": [
       "449"
      ]
     },
     "execution_count": 24,
     "metadata": {},
     "output_type": "execute_result"
    }
   ],
   "source": [
    "len(generator) # n_input = 2"
   ]
  },
  {
   "cell_type": "code",
   "execution_count": 25,
   "metadata": {},
   "outputs": [],
   "source": [
    "# scaled_train"
   ]
  },
  {
   "cell_type": "code",
   "execution_count": 26,
   "metadata": {},
   "outputs": [],
   "source": [
    "# What does the first batch look like?\n",
    "X,y = generator[0]"
   ]
  },
  {
   "cell_type": "code",
   "execution_count": 27,
   "metadata": {},
   "outputs": [
    {
     "name": "stdout",
     "output_type": "stream",
     "text": [
      "Given the Array: \n",
      "[0.49999843 0.59933376]\n",
      "Predict this y: \n",
      " [[0.6947089]]\n"
     ]
    }
   ],
   "source": [
    "print(f'Given the Array: \\n{X.flatten()}')\n",
    "print(f'Predict this y: \\n {y}')"
   ]
  },
  {
   "cell_type": "code",
   "execution_count": 28,
   "metadata": {},
   "outputs": [],
   "source": [
    "# Let's redefine to get 10 steps back and then predict the next step out\n",
    "length = 10 # Length of the output sequences (in number of timesteps)\n",
    "generator = TimeseriesGenerator(scaled_train, scaled_train, length=length, batch_size=1)"
   ]
  },
  {
   "cell_type": "code",
   "execution_count": 29,
   "metadata": {},
   "outputs": [],
   "source": [
    "# What does the first batch look like?\n",
    "X,y = generator[0]\n",
    "print(f'Given the Array: \\n{X.flatten()}')\n",
    "print(f'Predict this y: \\n {y}')"
   ]
  },
  {
   "cell_type": "code",
   "execution_count": 31,
   "metadata": {},
   "outputs": [],
   "source": [
    "length = 50 # Length of the output sequences (in number of timesteps)\n",
    "generator = TimeseriesGenerator(scaled_train, scaled_train, length=length, batch_size=1)"
   ]
  },
  {
   "cell_type": "markdown",
   "metadata": {},
   "source": [
    "Now you will be able to edit the length so that it makes sense for your time series!"
   ]
  },
  {
   "cell_type": "markdown",
   "metadata": {},
   "source": [
    "### Create the Model"
   ]
  },
  {
   "cell_type": "code",
   "execution_count": 32,
   "metadata": {},
   "outputs": [],
   "source": [
    "from tensorflow.keras.models import Sequential\n",
    "from tensorflow.keras.layers import Dense,LSTM,SimpleRNN"
   ]
  },
  {
   "cell_type": "code",
   "execution_count": 33,
   "metadata": {},
   "outputs": [],
   "source": [
    "# We're only using one feature in our time series\n",
    "n_features = 1"
   ]
  },
  {
   "cell_type": "code",
   "execution_count": 34,
   "metadata": {},
   "outputs": [],
   "source": [
    "# define model\n",
    "model = Sequential()\n",
    "\n",
    "# Simple RNN layer\n",
    "model.add(SimpleRNN(50,input_shape=(length, n_features)))\n",
    "\n",
    "# Final Prediction\n",
    "model.add(Dense(1))\n",
    "\n",
    "model.compile(optimizer='adam', loss='mse')"
   ]
  },
  {
   "cell_type": "code",
   "execution_count": 35,
   "metadata": {},
   "outputs": [
    {
     "name": "stdout",
     "output_type": "stream",
     "text": [
      "Model: \"sequential\"\n",
      "_________________________________________________________________\n",
      " Layer (type)                Output Shape              Param #   \n",
      "=================================================================\n",
      " simple_rnn (SimpleRNN)      (None, 50)                2600      \n",
      "                                                                 \n",
      " dense (Dense)               (None, 1)                 51        \n",
      "                                                                 \n",
      "=================================================================\n",
      "Total params: 2651 (10.36 KB)\n",
      "Trainable params: 2651 (10.36 KB)\n",
      "Non-trainable params: 0 (0.00 Byte)\n",
      "_________________________________________________________________\n"
     ]
    }
   ],
   "source": [
    "model.summary()"
   ]
  },
  {
   "cell_type": "code",
   "execution_count": 36,
   "metadata": {},
   "outputs": [
    {
     "name": "stderr",
     "output_type": "stream",
     "text": [
      "C:\\Users\\PC 05\\AppData\\Local\\Temp\\ipykernel_3464\\2200378995.py:2: UserWarning: `Model.fit_generator` is deprecated and will be removed in a future version. Please use `Model.fit`, which supports generators.\n",
      "  model.fit_generator(generator,epochs=5)\n"
     ]
    },
    {
     "name": "stdout",
     "output_type": "stream",
     "text": [
      "Epoch 1/5\n"
     ]
    },
    {
     "name": "stdout",
     "output_type": "stream",
     "text": [
      "401/401 [==============================] - 10s 14ms/step - loss: 0.0082\n",
      "Epoch 2/5\n",
      "401/401 [==============================] - 4s 11ms/step - loss: 3.6946e-04\n",
      "Epoch 3/5\n",
      "401/401 [==============================] - 4s 11ms/step - loss: 2.6425e-04\n",
      "Epoch 4/5\n",
      "401/401 [==============================] - 4s 11ms/step - loss: 9.2411e-04\n",
      "Epoch 5/5\n",
      "401/401 [==============================] - 4s 11ms/step - loss: 5.8368e-06\n"
     ]
    },
    {
     "data": {
      "text/plain": [
       "<keras.src.callbacks.History at 0x18f08d12490>"
      ]
     },
     "execution_count": 36,
     "metadata": {},
     "output_type": "execute_result"
    }
   ],
   "source": [
    "# fit model\n",
    "model.fit_generator(generator,epochs=5)"
   ]
  },
  {
   "cell_type": "code",
   "execution_count": 37,
   "metadata": {},
   "outputs": [
    {
     "data": {
      "text/plain": [
       "dict_keys(['loss'])"
      ]
     },
     "execution_count": 37,
     "metadata": {},
     "output_type": "execute_result"
    }
   ],
   "source": [
    "model.history.history.keys()"
   ]
  },
  {
   "cell_type": "code",
   "execution_count": 38,
   "metadata": {},
   "outputs": [
    {
     "data": {
      "text/plain": [
       "<Axes: >"
      ]
     },
     "execution_count": 38,
     "metadata": {},
     "output_type": "execute_result"
    },
    {
     "data": {
      "image/png": "[encoded data removed]",
      "text/plain": [
       "<Figure size 640x480 with 1 Axes>"
      ]
     },
     "metadata": {},
     "output_type": "display_data"
    }
   ],
   "source": [
    "losses = pd.DataFrame(model.history.history)\n",
    "losses.plot()"
   ]
  },
  {
   "cell_type": "markdown",
   "metadata": {},
   "source": [
    "## Evaluate on Test Data"
   ]
  },
  {
   "cell_type": "code",
   "execution_count": 39,
   "metadata": {},
   "outputs": [],
   "source": [
    "first_eval_batch = scaled_train[-length:]"
   ]
  },
  {
   "cell_type": "code",
   "execution_count": 40,
   "metadata": {},
   "outputs": [
    {
     "data": {
      "text/plain": [
       "array([[1.99131069e-03],\n",
       "       [2.07857970e-02],\n",
       "       [5.86849788e-02],\n",
       "       [1.14177935e-01],\n",
       "       [1.85052337e-01],\n",
       "       [2.68482646e-01],\n",
       "       [3.61142758e-01],\n",
       "       [4.59338608e-01],\n",
       "       [5.59155437e-01],\n",
       "       [6.56613862e-01],\n",
       "       [7.47828524e-01],\n",
       "       [8.29162983e-01],\n",
       "       [8.97374689e-01],\n",
       "       [9.49744258e-01],\n",
       "       [9.84183880e-01],\n",
       "       [9.99320556e-01],\n",
       "       [9.94550835e-01],\n",
       "       [9.70064869e-01],\n",
       "       [9.26838839e-01],\n",
       "       [8.66596028e-01],\n",
       "       [7.91738127e-01],\n",
       "       [7.05249486e-01],\n",
       "       [6.10578132e-01],\n",
       "       [5.11498315e-01],\n",
       "       [4.11960033e-01],\n",
       "       [3.15931565e-01],\n",
       "       [2.27241262e-01],\n",
       "       [1.49424926e-01],\n",
       "       [8.55848492e-02],\n",
       "       [3.82661343e-02],\n",
       "       [9.35522889e-03],\n",
       "       [4.71955842e-06],\n",
       "       [1.05873816e-02],\n",
       "       [4.06813177e-02],\n",
       "       [8.90867775e-02],\n",
       "       [1.53873988e-01],\n",
       "       [2.32460088e-01],\n",
       "       [3.21712097e-01],\n",
       "       [4.18071820e-01],\n",
       "       [5.17697698e-01],\n",
       "       [6.16617962e-01],\n",
       "       [7.10888973e-01],\n",
       "       [7.96752444e-01],\n",
       "       [8.70785269e-01],\n",
       "       [9.30035992e-01],\n",
       "       [9.72142475e-01],\n",
       "       [9.95426065e-01],\n",
       "       [9.98958518e-01],\n",
       "       [9.82599007e-01],\n",
       "       [9.46999734e-01]])"
      ]
     },
     "execution_count": 40,
     "metadata": {},
     "output_type": "execute_result"
    }
   ],
   "source": [
    "first_eval_batch"
   ]
  },
  {
   "cell_type": "code",
   "execution_count": 41,
   "metadata": {},
   "outputs": [],
   "source": [
    "first_eval_batch = first_eval_batch.reshape((1, length, n_features))"
   ]
  },
  {
   "cell_type": "code",
   "execution_count": 42,
   "metadata": {},
   "outputs": [
    {
     "name": "stdout",
     "output_type": "stream",
     "text": [
      "1/1 [==============================] - 0s 465ms/step\n"
     ]
    },
    {
     "data": {
      "text/plain": [
       "array([[0.8938962]], dtype=float32)"
      ]
     },
     "execution_count": 42,
     "metadata": {},
     "output_type": "execute_result"
    }
   ],
   "source": [
    "model.predict(first_eval_batch)"
   ]
  },
  {
   "cell_type": "code",
   "execution_count": 43,
   "metadata": {},
   "outputs": [
    {
     "data": {
      "text/plain": [
       "array([0.89357993])"
      ]
     },
     "execution_count": 43,
     "metadata": {},
     "output_type": "execute_result"
    }
   ],
   "source": [
    "scaled_test[0]"
   ]
  },
  {
   "cell_type": "markdown",
   "metadata": {},
   "source": [
    "Now let's put this logic in a for loop to predict into the future for the entire test range.\n",
    "\n",
    "----"
   ]
  },
  {
   "cell_type": "code",
   "execution_count": 44,
   "metadata": {},
   "outputs": [],
   "source": [
    "test_predictions = []\n",
    "\n",
    "first_eval_batch = scaled_train[-length:]\n",
    "current_batch = first_eval_batch.reshape((1, length, n_features))"
   ]
  },
  {
   "cell_type": "code",
   "execution_count": 45,
   "metadata": {},
   "outputs": [
    {
     "data": {
      "text/plain": [
       "(1, 50, 1)"
      ]
     },
     "execution_count": 45,
     "metadata": {},
     "output_type": "execute_result"
    }
   ],
   "source": [
    "current_batch.shape"
   ]
  },
  {
   "cell_type": "code",
   "execution_count": 46,
   "metadata": {},
   "outputs": [
    {
     "data": {
      "text/plain": [
       "array([[[1.99131069e-03],\n",
       "        [2.07857970e-02],\n",
       "        [5.86849788e-02],\n",
       "        [1.14177935e-01],\n",
       "        [1.85052337e-01],\n",
       "        [2.68482646e-01],\n",
       "        [3.61142758e-01],\n",
       "        [4.59338608e-01],\n",
       "        [5.59155437e-01],\n",
       "        [6.56613862e-01],\n",
       "        [7.47828524e-01],\n",
       "        [8.29162983e-01],\n",
       "        [8.97374689e-01],\n",
       "        [9.49744258e-01],\n",
       "        [9.84183880e-01],\n",
       "        [9.99320556e-01],\n",
       "        [9.94550835e-01],\n",
       "        [9.70064869e-01],\n",
       "        [9.26838839e-01],\n",
       "        [8.66596028e-01],\n",
       "        [7.91738127e-01],\n",
       "        [7.05249486e-01],\n",
       "        [6.10578132e-01],\n",
       "        [5.11498315e-01],\n",
       "        [4.11960033e-01],\n",
       "        [3.15931565e-01],\n",
       "        [2.27241262e-01],\n",
       "        [1.49424926e-01],\n",
       "        [8.55848492e-02],\n",
       "        [3.82661343e-02],\n",
       "        [9.35522889e-03],\n",
       "        [4.71955842e-06],\n",
       "        [1.05873816e-02],\n",
       "        [4.06813177e-02],\n",
       "        [8.90867775e-02],\n",
       "        [1.53873988e-01],\n",
       "        [2.32460088e-01],\n",
       "        [3.21712097e-01],\n",
       "        [4.18071820e-01],\n",
       "        [5.17697698e-01],\n",
       "        [6.16617962e-01],\n",
       "        [7.10888973e-01],\n",
       "        [7.96752444e-01],\n",
       "        [8.70785269e-01],\n",
       "        [9.30035992e-01],\n",
       "        [9.72142475e-01],\n",
       "        [9.95426065e-01],\n",
       "        [9.98958518e-01],\n",
       "        [9.82599007e-01],\n",
       "        [9.46999734e-01]]])"
      ]
     },
     "execution_count": 46,
     "metadata": {},
     "output_type": "execute_result"
    }
   ],
   "source": [
    "current_batch"
   ]
  },
  {
   "cell_type": "code",
   "execution_count": 47,
   "metadata": {},
   "outputs": [
    {
     "data": {
      "text/plain": [
       "array([[[2.07857970e-02],\n",
       "        [5.86849788e-02],\n",
       "        [1.14177935e-01],\n",
       "        [1.85052337e-01],\n",
       "        [2.68482646e-01],\n",
       "        [3.61142758e-01],\n",
       "        [4.59338608e-01],\n",
       "        [5.59155437e-01],\n",
       "        [6.56613862e-01],\n",
       "        [7.47828524e-01],\n",
       "        [8.29162983e-01],\n",
       "        [8.97374689e-01],\n",
       "        [9.49744258e-01],\n",
       "        [9.84183880e-01],\n",
       "        [9.99320556e-01],\n",
       "        [9.94550835e-01],\n",
       "        [9.70064869e-01],\n",
       "        [9.26838839e-01],\n",
       "        [8.66596028e-01],\n",
       "        [7.91738127e-01],\n",
       "        [7.05249486e-01],\n",
       "        [6.10578132e-01],\n",
       "        [5.11498315e-01],\n",
       "        [4.11960033e-01],\n",
       "        [3.15931565e-01],\n",
       "        [2.27241262e-01],\n",
       "        [1.49424926e-01],\n",
       "        [8.55848492e-02],\n",
       "        [3.82661343e-02],\n",
       "        [9.35522889e-03],\n",
       "        [4.71955842e-06],\n",
       "        [1.05873816e-02],\n",
       "        [4.06813177e-02],\n",
       "        [8.90867775e-02],\n",
       "        [1.53873988e-01],\n",
       "        [2.32460088e-01],\n",
       "        [3.21712097e-01],\n",
       "        [4.18071820e-01],\n",
       "        [5.17697698e-01],\n",
       "        [6.16617962e-01],\n",
       "        [7.10888973e-01],\n",
       "        [7.96752444e-01],\n",
       "        [8.70785269e-01],\n",
       "        [9.30035992e-01],\n",
       "        [9.72142475e-01],\n",
       "        [9.95426065e-01],\n",
       "        [9.98958518e-01],\n",
       "        [9.82599007e-01],\n",
       "        [9.46999734e-01],\n",
       "        [9.90000000e+01]]])"
      ]
     },
     "execution_count": 47,
     "metadata": {},
     "output_type": "execute_result"
    }
   ],
   "source": [
    "np.append(current_batch[:,1:,:],[[[99]]],axis=1)"
   ]
  },
  {
   "cell_type": "markdown",
   "metadata": {},
   "source": [
    "**NOTE: PAY CLOSE ATTENTION HERE TO WHAT IS BEING OUTPUTED AND IN WHAT DIMENSIONS. ADD YOUR OWN PRINT() STATEMENTS TO SEE WHAT IS TRULY GOING ON!!**"
   ]
  },
  {
   "cell_type": "code",
   "execution_count": 48,
   "metadata": {},
   "outputs": [
    {
     "name": "stdout",
     "output_type": "stream",
     "text": [
      "1/1 [==============================] - 0s 38ms/step\n",
      "1/1 [==============================] - 0s 39ms/step\n",
      "1/1 [==============================] - 0s 45ms/step\n",
      "1/1 [==============================] - 0s 47ms/step\n",
      "1/1 [==============================] - 0s 37ms/step\n"
     ]
    },
    {
     "name": "stdout",
     "output_type": "stream",
     "text": [
      "1/1 [==============================] - 0s 56ms/step\n",
      "1/1 [==============================] - 0s 28ms/step\n",
      "1/1 [==============================] - 0s 29ms/step\n",
      "1/1 [==============================] - 0s 42ms/step\n",
      "1/1 [==============================] - 0s 32ms/step\n",
      "1/1 [==============================] - 0s 29ms/step\n",
      "1/1 [==============================] - 0s 29ms/step\n",
      "1/1 [==============================] - 0s 60ms/step\n",
      "1/1 [==============================] - 0s 65ms/step\n",
      "1/1 [==============================] - 0s 82ms/step\n",
      "1/1 [==============================] - 0s 56ms/step\n",
      "1/1 [==============================] - 0s 57ms/step\n",
      "1/1 [==============================] - 0s 55ms/step\n",
      "1/1 [==============================] - 0s 56ms/step\n",
      "1/1 [==============================] - 0s 59ms/step\n",
      "1/1 [==============================] - 0s 62ms/step\n",
      "1/1 [==============================] - 0s 57ms/step\n",
      "1/1 [==============================] - 0s 56ms/step\n",
      "1/1 [==============================] - 0s 83ms/step\n",
      "1/1 [==============================] - 0s 80ms/step\n",
      "1/1 [==============================] - 0s 62ms/step\n",
      "1/1 [==============================] - 0s 69ms/step\n",
      "1/1 [==============================] - 0s 67ms/step\n",
      "1/1 [==============================] - 0s 92ms/step\n",
      "1/1 [==============================] - 0s 70ms/step\n",
      "1/1 [==============================] - 0s 76ms/step\n",
      "1/1 [==============================] - 0s 73ms/step\n",
      "1/1 [==============================] - 0s 50ms/step\n",
      "1/1 [==============================] - 0s 54ms/step\n",
      "1/1 [==============================] - 0s 56ms/step\n",
      "1/1 [==============================] - 0s 52ms/step\n",
      "1/1 [==============================] - 0s 52ms/step\n",
      "1/1 [==============================] - 0s 74ms/step\n",
      "1/1 [==============================] - 0s 99ms/step\n",
      "1/1 [==============================] - 0s 80ms/step\n",
      "1/1 [==============================] - 0s 52ms/step\n",
      "1/1 [==============================] - 0s 49ms/step\n",
      "1/1 [==============================] - 0s 43ms/step\n",
      "1/1 [==============================] - 0s 58ms/step\n",
      "1/1 [==============================] - 0s 51ms/step\n",
      "1/1 [==============================] - 0s 47ms/step\n",
      "1/1 [==============================] - 0s 54ms/step\n",
      "1/1 [==============================] - 0s 81ms/step\n",
      "1/1 [==============================] - 0s 67ms/step\n",
      "1/1 [==============================] - 0s 54ms/step\n"
     ]
    }
   ],
   "source": [
    "test_predictions = []\n",
    "\n",
    "first_eval_batch = scaled_train[-length:]\n",
    "current_batch = first_eval_batch.reshape((1, length, n_features))\n",
    "\n",
    "for i in range(len(test)):\n",
    "    \n",
    "    # get prediction 1 time stamp ahead ([0] is for grabbing just the number instead of [array])\n",
    "    current_pred = model.predict(current_batch)[0]\n",
    "    \n",
    "    # store prediction\n",
    "    test_predictions.append(current_pred) \n",
    "    \n",
    "    # update batch to now include prediction and drop first value\n",
    "    current_batch = np.append(current_batch[:,1:,:],[[current_pred]],axis=1)"
   ]
  },
  {
   "cell_type": "code",
   "execution_count": 49,
   "metadata": {},
   "outputs": [
    {
     "data": {
      "text/plain": [
       "[array([0.8938962], dtype=float32),\n",
       " array([0.8239916], dtype=float32),\n",
       " array([0.7416266], dtype=float32),\n",
       " array([0.649938], dtype=float32),\n",
       " array([0.55232424], dtype=float32),\n",
       " array([0.45278576], dtype=float32),\n",
       " array([0.35442978], dtype=float32),\n",
       " array([0.2620384], dtype=float32),\n",
       " array([0.17908901], dtype=float32),\n",
       " array([0.10929482], dtype=float32),\n",
       " array([0.05493705], dtype=float32),\n",
       " array([0.01807119], dtype=float32),\n",
       " array([0.00030945], dtype=float32),\n",
       " array([0.00219748], dtype=float32),\n",
       " array([0.02435302], dtype=float32),\n",
       " array([0.06518127], dtype=float32),\n",
       " array([0.12346562], dtype=float32),\n",
       " array([0.19667447], dtype=float32),\n",
       " array([0.28185293], dtype=float32),\n",
       " array([0.37580657], dtype=float32),\n",
       " array([0.4747438], dtype=float32),\n",
       " array([0.5749191], dtype=float32),\n",
       " array([0.672084], dtype=float32),\n",
       " array([0.7626862], dtype=float32),\n",
       " array([0.8427756], dtype=float32),\n",
       " array([0.90923136], dtype=float32),\n",
       " array([0.95907795], dtype=float32),\n",
       " array([0.99044645], dtype=float32),\n",
       " array([1.0026592], dtype=float32),\n",
       " array([0.99505407], dtype=float32),\n",
       " array([0.9677147], dtype=float32),\n",
       " array([0.9212113], dtype=float32),\n",
       " array([0.8576436], dtype=float32),\n",
       " array([0.7798634], dtype=float32),\n",
       " array([0.69130456], dtype=float32),\n",
       " array([0.5953663], dtype=float32),\n",
       " array([0.4955021], dtype=float32),\n",
       " array([0.39569223], dtype=float32),\n",
       " array([0.2998713], dtype=float32),\n",
       " array([0.21213655], dtype=float32),\n",
       " array([0.13602315], dtype=float32),\n",
       " array([0.07446083], dtype=float32),\n",
       " array([0.02974364], dtype=float32),\n",
       " array([0.00363178], dtype=float32),\n",
       " array([-0.00281605], dtype=float32),\n",
       " array([0.01067739], dtype=float32),\n",
       " array([0.04371988], dtype=float32),\n",
       " array([0.09487339], dtype=float32),\n",
       " array([0.16214082], dtype=float32),\n",
       " array([0.24279527], dtype=float32)]"
      ]
     },
     "execution_count": 49,
     "metadata": {},
     "output_type": "execute_result"
    }
   ],
   "source": [
    "test_predictions"
   ]
  },
  {
   "cell_type": "code",
   "execution_count": 50,
   "metadata": {},
   "outputs": [
    {
     "data": {
      "text/plain": [
       "array([[8.93579930e-01],\n",
       "       [8.24469273e-01],\n",
       "       [7.42422987e-01],\n",
       "       [6.50712000e-01],\n",
       "       [5.52992537e-01],\n",
       "       [4.53160367e-01],\n",
       "       [3.55195483e-01],\n",
       "       [2.63003435e-01],\n",
       "       [1.80259630e-01],\n",
       "       [1.10262802e-01],\n",
       "       [5.58035031e-02],\n",
       "       [1.90528543e-02],\n",
       "       [1.47598790e-03],\n",
       "       [3.77363801e-03],\n",
       "       [2.58542046e-02],\n",
       "       [6.68374052e-02],\n",
       "       [1.25089369e-01],\n",
       "       [1.98287774e-01],\n",
       "       [2.83514430e-01],\n",
       "       [3.77371621e-01],\n",
       "       [4.76117555e-01],\n",
       "       [5.75815544e-01],\n",
       "       [6.72490945e-01],\n",
       "       [7.62289613e-01],\n",
       "       [8.41631559e-01],\n",
       "       [9.07353670e-01],\n",
       "       [9.56835814e-01],\n",
       "       [9.88105292e-01],\n",
       "       [9.99915490e-01],\n",
       "       [9.91795573e-01],\n",
       "       [9.64069255e-01],\n",
       "       [9.17841898e-01],\n",
       "       [8.54956441e-01],\n",
       "       [7.77919927e-01],\n",
       "       [6.89803561e-01],\n",
       "       [5.94120263e-01],\n",
       "       [4.94684624e-01],\n",
       "       [3.95460830e-01],\n",
       "       [3.00404621e-01],\n",
       "       [2.13305586e-01],\n",
       "       [1.37636091e-01],\n",
       "       [7.64128379e-02],\n",
       "       [3.20766061e-02],\n",
       "       [6.39494071e-03],\n",
       "       [3.91688788e-04],\n",
       "       [1.43061810e-02],\n",
       "       [4.75836904e-02],\n",
       "       [9.88975478e-02],\n",
       "       [1.66202032e-01],\n",
       "       [2.46813924e-01]])"
      ]
     },
     "execution_count": 50,
     "metadata": {},
     "output_type": "execute_result"
    }
   ],
   "source": [
    "scaled_test"
   ]
  },
  {
   "cell_type": "markdown",
   "metadata": {},
   "source": [
    "## Inverse Transformations and Compare"
   ]
  },
  {
   "cell_type": "code",
   "execution_count": 51,
   "metadata": {},
   "outputs": [],
   "source": [
    "true_predictions = scaler.inverse_transform(test_predictions)"
   ]
  },
  {
   "cell_type": "code",
   "execution_count": 52,
   "metadata": {},
   "outputs": [
    {
     "data": {
      "text/plain": [
       "array([[ 0.78779035],\n",
       "       [ 0.64798203],\n",
       "       [ 0.48325317],\n",
       "       [ 0.29987712],\n",
       "       [ 0.10465092],\n",
       "       [-0.09442471],\n",
       "       [-0.29113536],\n",
       "       [-0.47591687],\n",
       "       [-0.64181457],\n",
       "       [-0.78140203],\n",
       "       [-0.89011683],\n",
       "       [-0.96384806],\n",
       "       [-0.99937132],\n",
       "       [-0.99559528],\n",
       "       [-0.95128448],\n",
       "       [-0.86962853],\n",
       "       [-0.75306061],\n",
       "       [-0.60664389],\n",
       "       [-0.43628809],\n",
       "       [-0.24838207],\n",
       "       [-0.0505089 ],\n",
       "       [ 0.14984035],\n",
       "       [ 0.3441688 ],\n",
       "       [ 0.52537203],\n",
       "       [ 0.68554975],\n",
       "       [ 0.81846043],\n",
       "       [ 0.91815294],\n",
       "       [ 0.98088951],\n",
       "       [ 1.00531486],\n",
       "       [ 0.99010469],\n",
       "       [ 0.93542637],\n",
       "       [ 0.84242014],\n",
       "       [ 0.71528559],\n",
       "       [ 0.55972625],\n",
       "       [ 0.38260973],\n",
       "       [ 0.19073447],\n",
       "       [-0.00899257],\n",
       "       [-0.20861101],\n",
       "       [-0.4002516 ],\n",
       "       [-0.57571993],\n",
       "       [-0.72794572],\n",
       "       [-0.85106954],\n",
       "       [-0.94050333],\n",
       "       [-0.99272669],\n",
       "       [-1.00562227],\n",
       "       [-0.97863556],\n",
       "       [-0.91255102],\n",
       "       [-0.81024469],\n",
       "       [-0.67571073],\n",
       "       [-0.51440289]])"
      ]
     },
     "execution_count": 52,
     "metadata": {},
     "output_type": "execute_result"
    }
   ],
   "source": [
    "true_predictions"
   ]
  },
  {
   "cell_type": "code",
   "execution_count": 53,
   "metadata": {},
   "outputs": [
    {
     "data": {
      "text/html": [
       "<div>\n",
       "<style scoped>\n",
       "    .dataframe tbody tr th:only-of-type {\n",
       "        vertical-align: middle;\n",
       "    }\n",
       "\n",
       "    .dataframe tbody tr th {\n",
       "        vertical-align: top;\n",
       "    }\n",
       "\n",
       "    .dataframe thead th {\n",
       "        text-align: right;\n",
       "    }\n",
       "</style>\n",
       "<table border=\"1\" class=\"dataframe\">\n",
       "  <thead>\n",
       "    <tr style=\"text-align: right;\">\n",
       "      <th></th>\n",
       "      <th>Sine</th>\n",
       "    </tr>\n",
       "  </thead>\n",
       "  <tbody>\n",
       "    <tr>\n",
       "      <th>90.2</th>\n",
       "      <td>0.787158</td>\n",
       "    </tr>\n",
       "    <tr>\n",
       "      <th>90.4</th>\n",
       "      <td>0.648937</td>\n",
       "    </tr>\n",
       "    <tr>\n",
       "      <th>90.6</th>\n",
       "      <td>0.484846</td>\n",
       "    </tr>\n",
       "    <tr>\n",
       "      <th>90.8</th>\n",
       "      <td>0.301425</td>\n",
       "    </tr>\n",
       "    <tr>\n",
       "      <th>91.0</th>\n",
       "      <td>0.105988</td>\n",
       "    </tr>\n",
       "    <tr>\n",
       "      <th>91.2</th>\n",
       "      <td>-0.093676</td>\n",
       "    </tr>\n",
       "    <tr>\n",
       "      <th>91.4</th>\n",
       "      <td>-0.289604</td>\n",
       "    </tr>\n",
       "    <tr>\n",
       "      <th>91.6</th>\n",
       "      <td>-0.473987</td>\n",
       "    </tr>\n",
       "    <tr>\n",
       "      <th>91.8</th>\n",
       "      <td>-0.639473</td>\n",
       "    </tr>\n",
       "    <tr>\n",
       "      <th>92.0</th>\n",
       "      <td>-0.779466</td>\n",
       "    </tr>\n",
       "    <tr>\n",
       "      <th>92.2</th>\n",
       "      <td>-0.888384</td>\n",
       "    </tr>\n",
       "    <tr>\n",
       "      <th>92.4</th>\n",
       "      <td>-0.961885</td>\n",
       "    </tr>\n",
       "    <tr>\n",
       "      <th>92.6</th>\n",
       "      <td>-0.997038</td>\n",
       "    </tr>\n",
       "    <tr>\n",
       "      <th>92.8</th>\n",
       "      <td>-0.992443</td>\n",
       "    </tr>\n",
       "    <tr>\n",
       "      <th>93.0</th>\n",
       "      <td>-0.948282</td>\n",
       "    </tr>\n",
       "    <tr>\n",
       "      <th>93.2</th>\n",
       "      <td>-0.866316</td>\n",
       "    </tr>\n",
       "    <tr>\n",
       "      <th>93.4</th>\n",
       "      <td>-0.749813</td>\n",
       "    </tr>\n",
       "    <tr>\n",
       "      <th>93.6</th>\n",
       "      <td>-0.603417</td>\n",
       "    </tr>\n",
       "    <tr>\n",
       "      <th>93.8</th>\n",
       "      <td>-0.432965</td>\n",
       "    </tr>\n",
       "    <tr>\n",
       "      <th>94.0</th>\n",
       "      <td>-0.245252</td>\n",
       "    </tr>\n",
       "    <tr>\n",
       "      <th>94.2</th>\n",
       "      <td>-0.047761</td>\n",
       "    </tr>\n",
       "    <tr>\n",
       "      <th>94.4</th>\n",
       "      <td>0.151633</td>\n",
       "    </tr>\n",
       "    <tr>\n",
       "      <th>94.6</th>\n",
       "      <td>0.344983</td>\n",
       "    </tr>\n",
       "    <tr>\n",
       "      <th>94.8</th>\n",
       "      <td>0.524579</td>\n",
       "    </tr>\n",
       "    <tr>\n",
       "      <th>95.0</th>\n",
       "      <td>0.683262</td>\n",
       "    </tr>\n",
       "    <tr>\n",
       "      <th>95.2</th>\n",
       "      <td>0.814705</td>\n",
       "    </tr>\n",
       "    <tr>\n",
       "      <th>95.4</th>\n",
       "      <td>0.913669</td>\n",
       "    </tr>\n",
       "    <tr>\n",
       "      <th>95.6</th>\n",
       "      <td>0.976207</td>\n",
       "    </tr>\n",
       "    <tr>\n",
       "      <th>95.8</th>\n",
       "      <td>0.999827</td>\n",
       "    </tr>\n",
       "    <tr>\n",
       "      <th>96.0</th>\n",
       "      <td>0.983588</td>\n",
       "    </tr>\n",
       "    <tr>\n",
       "      <th>96.2</th>\n",
       "      <td>0.928135</td>\n",
       "    </tr>\n",
       "    <tr>\n",
       "      <th>96.4</th>\n",
       "      <td>0.835681</td>\n",
       "    </tr>\n",
       "    <tr>\n",
       "      <th>96.6</th>\n",
       "      <td>0.709911</td>\n",
       "    </tr>\n",
       "    <tr>\n",
       "      <th>96.8</th>\n",
       "      <td>0.555839</td>\n",
       "    </tr>\n",
       "    <tr>\n",
       "      <th>97.0</th>\n",
       "      <td>0.379608</td>\n",
       "    </tr>\n",
       "    <tr>\n",
       "      <th>97.2</th>\n",
       "      <td>0.188242</td>\n",
       "    </tr>\n",
       "    <tr>\n",
       "      <th>97.4</th>\n",
       "      <td>-0.010628</td>\n",
       "    </tr>\n",
       "    <tr>\n",
       "      <th>97.6</th>\n",
       "      <td>-0.209074</td>\n",
       "    </tr>\n",
       "    <tr>\n",
       "      <th>97.8</th>\n",
       "      <td>-0.399185</td>\n",
       "    </tr>\n",
       "    <tr>\n",
       "      <th>98.0</th>\n",
       "      <td>-0.573382</td>\n",
       "    </tr>\n",
       "    <tr>\n",
       "      <th>98.2</th>\n",
       "      <td>-0.724720</td>\n",
       "    </tr>\n",
       "    <tr>\n",
       "      <th>98.4</th>\n",
       "      <td>-0.847166</td>\n",
       "    </tr>\n",
       "    <tr>\n",
       "      <th>98.6</th>\n",
       "      <td>-0.935837</td>\n",
       "    </tr>\n",
       "    <tr>\n",
       "      <th>98.8</th>\n",
       "      <td>-0.987200</td>\n",
       "    </tr>\n",
       "    <tr>\n",
       "      <th>99.0</th>\n",
       "      <td>-0.999207</td>\n",
       "    </tr>\n",
       "    <tr>\n",
       "      <th>99.2</th>\n",
       "      <td>-0.971378</td>\n",
       "    </tr>\n",
       "    <tr>\n",
       "      <th>99.4</th>\n",
       "      <td>-0.904823</td>\n",
       "    </tr>\n",
       "    <tr>\n",
       "      <th>99.6</th>\n",
       "      <td>-0.802196</td>\n",
       "    </tr>\n",
       "    <tr>\n",
       "      <th>99.8</th>\n",
       "      <td>-0.667588</td>\n",
       "    </tr>\n",
       "    <tr>\n",
       "      <th>100.0</th>\n",
       "      <td>-0.506366</td>\n",
       "    </tr>\n",
       "  </tbody>\n",
       "</table>\n",
       "</div>"
      ],
      "text/plain": [
       "           Sine\n",
       "90.2   0.787158\n",
       "90.4   0.648937\n",
       "90.6   0.484846\n",
       "90.8   0.301425\n",
       "91.0   0.105988\n",
       "91.2  -0.093676\n",
       "91.4  -0.289604\n",
       "91.6  -0.473987\n",
       "91.8  -0.639473\n",
       "92.0  -0.779466\n",
       "92.2  -0.888384\n",
       "92.4  -0.961885\n",
       "92.6  -0.997038\n",
       "92.8  -0.992443\n",
       "93.0  -0.948282\n",
       "93.2  -0.866316\n",
       "93.4  -0.749813\n",
       "93.6  -0.603417\n",
       "93.8  -0.432965\n",
       "94.0  -0.245252\n",
       "94.2  -0.047761\n",
       "94.4   0.151633\n",
       "94.6   0.344983\n",
       "94.8   0.524579\n",
       "95.0   0.683262\n",
       "95.2   0.814705\n",
       "95.4   0.913669\n",
       "95.6   0.976207\n",
       "95.8   0.999827\n",
       "96.0   0.983588\n",
       "96.2   0.928135\n",
       "96.4   0.835681\n",
       "96.6   0.709911\n",
       "96.8   0.555839\n",
       "97.0   0.379608\n",
       "97.2   0.188242\n",
       "97.4  -0.010628\n",
       "97.6  -0.209074\n",
       "97.8  -0.399185\n",
       "98.0  -0.573382\n",
       "98.2  -0.724720\n",
       "98.4  -0.847166\n",
       "98.6  -0.935837\n",
       "98.8  -0.987200\n",
       "99.0  -0.999207\n",
       "99.2  -0.971378\n",
       "99.4  -0.904823\n",
       "99.6  -0.802196\n",
       "99.8  -0.667588\n",
       "100.0 -0.506366"
      ]
     },
     "execution_count": 53,
     "metadata": {},
     "output_type": "execute_result"
    }
   ],
   "source": [
    "test"
   ]
  },
  {
   "cell_type": "code",
   "execution_count": 54,
   "metadata": {},
   "outputs": [
    {
     "name": "stderr",
     "output_type": "stream",
     "text": [
      "C:\\Users\\PC 05\\AppData\\Local\\Temp\\ipykernel_3464\\1339453577.py:2: SettingWithCopyWarning: \n",
      "A value is trying to be set on a copy of a slice from a DataFrame.\n",
      "Try using .loc[row_indexer,col_indexer] = value instead\n",
      "\n",
      "See the caveats in the documentation: https://pandas.pydata.org/pandas-docs/stable/user_guide/indexing.html#returning-a-view-versus-a-copy\n",
      "  test['Predictions'] = true_predictions\n"
     ]
    }
   ],
   "source": [
    "# IGNORE WARNINGS\n",
    "test['Predictions'] = true_predictions"
   ]
  },
  {
   "cell_type": "code",
   "execution_count": 55,
   "metadata": {},
   "outputs": [
    {
     "data": {
      "text/html": [
       "<div>\n",
       "<style scoped>\n",
       "    .dataframe tbody tr th:only-of-type {\n",
       "        vertical-align: middle;\n",
       "    }\n",
       "\n",
       "    .dataframe tbody tr th {\n",
       "        vertical-align: top;\n",
       "    }\n",
       "\n",
       "    .dataframe thead th {\n",
       "        text-align: right;\n",
       "    }\n",
       "</style>\n",
       "<table border=\"1\" class=\"dataframe\">\n",
       "  <thead>\n",
       "    <tr style=\"text-align: right;\">\n",
       "      <th></th>\n",
       "      <th>Sine</th>\n",
       "      <th>Predictions</th>\n",
       "    </tr>\n",
       "  </thead>\n",
       "  <tbody>\n",
       "    <tr>\n",
       "      <th>90.2</th>\n",
       "      <td>0.787158</td>\n",
       "      <td>0.787790</td>\n",
       "    </tr>\n",
       "    <tr>\n",
       "      <th>90.4</th>\n",
       "      <td>0.648937</td>\n",
       "      <td>0.647982</td>\n",
       "    </tr>\n",
       "    <tr>\n",
       "      <th>90.6</th>\n",
       "      <td>0.484846</td>\n",
       "      <td>0.483253</td>\n",
       "    </tr>\n",
       "    <tr>\n",
       "      <th>90.8</th>\n",
       "      <td>0.301425</td>\n",
       "      <td>0.299877</td>\n",
       "    </tr>\n",
       "    <tr>\n",
       "      <th>91.0</th>\n",
       "      <td>0.105988</td>\n",
       "      <td>0.104651</td>\n",
       "    </tr>\n",
       "    <tr>\n",
       "      <th>91.2</th>\n",
       "      <td>-0.093676</td>\n",
       "      <td>-0.094425</td>\n",
       "    </tr>\n",
       "    <tr>\n",
       "      <th>91.4</th>\n",
       "      <td>-0.289604</td>\n",
       "      <td>-0.291135</td>\n",
       "    </tr>\n",
       "    <tr>\n",
       "      <th>91.6</th>\n",
       "      <td>-0.473987</td>\n",
       "      <td>-0.475917</td>\n",
       "    </tr>\n",
       "    <tr>\n",
       "      <th>91.8</th>\n",
       "      <td>-0.639473</td>\n",
       "      <td>-0.641815</td>\n",
       "    </tr>\n",
       "    <tr>\n",
       "      <th>92.0</th>\n",
       "      <td>-0.779466</td>\n",
       "      <td>-0.781402</td>\n",
       "    </tr>\n",
       "    <tr>\n",
       "      <th>92.2</th>\n",
       "      <td>-0.888384</td>\n",
       "      <td>-0.890117</td>\n",
       "    </tr>\n",
       "    <tr>\n",
       "      <th>92.4</th>\n",
       "      <td>-0.961885</td>\n",
       "      <td>-0.963848</td>\n",
       "    </tr>\n",
       "    <tr>\n",
       "      <th>92.6</th>\n",
       "      <td>-0.997038</td>\n",
       "      <td>-0.999371</td>\n",
       "    </tr>\n",
       "    <tr>\n",
       "      <th>92.8</th>\n",
       "      <td>-0.992443</td>\n",
       "      <td>-0.995595</td>\n",
       "    </tr>\n",
       "    <tr>\n",
       "      <th>93.0</th>\n",
       "      <td>-0.948282</td>\n",
       "      <td>-0.951284</td>\n",
       "    </tr>\n",
       "    <tr>\n",
       "      <th>93.2</th>\n",
       "      <td>-0.866316</td>\n",
       "      <td>-0.869629</td>\n",
       "    </tr>\n",
       "    <tr>\n",
       "      <th>93.4</th>\n",
       "      <td>-0.749813</td>\n",
       "      <td>-0.753061</td>\n",
       "    </tr>\n",
       "    <tr>\n",
       "      <th>93.6</th>\n",
       "      <td>-0.603417</td>\n",
       "      <td>-0.606644</td>\n",
       "    </tr>\n",
       "    <tr>\n",
       "      <th>93.8</th>\n",
       "      <td>-0.432965</td>\n",
       "      <td>-0.436288</td>\n",
       "    </tr>\n",
       "    <tr>\n",
       "      <th>94.0</th>\n",
       "      <td>-0.245252</td>\n",
       "      <td>-0.248382</td>\n",
       "    </tr>\n",
       "    <tr>\n",
       "      <th>94.2</th>\n",
       "      <td>-0.047761</td>\n",
       "      <td>-0.050509</td>\n",
       "    </tr>\n",
       "    <tr>\n",
       "      <th>94.4</th>\n",
       "      <td>0.151633</td>\n",
       "      <td>0.149840</td>\n",
       "    </tr>\n",
       "    <tr>\n",
       "      <th>94.6</th>\n",
       "      <td>0.344983</td>\n",
       "      <td>0.344169</td>\n",
       "    </tr>\n",
       "    <tr>\n",
       "      <th>94.8</th>\n",
       "      <td>0.524579</td>\n",
       "      <td>0.525372</td>\n",
       "    </tr>\n",
       "    <tr>\n",
       "      <th>95.0</th>\n",
       "      <td>0.683262</td>\n",
       "      <td>0.685550</td>\n",
       "    </tr>\n",
       "    <tr>\n",
       "      <th>95.2</th>\n",
       "      <td>0.814705</td>\n",
       "      <td>0.818460</td>\n",
       "    </tr>\n",
       "    <tr>\n",
       "      <th>95.4</th>\n",
       "      <td>0.913669</td>\n",
       "      <td>0.918153</td>\n",
       "    </tr>\n",
       "    <tr>\n",
       "      <th>95.6</th>\n",
       "      <td>0.976207</td>\n",
       "      <td>0.980890</td>\n",
       "    </tr>\n",
       "    <tr>\n",
       "      <th>95.8</th>\n",
       "      <td>0.999827</td>\n",
       "      <td>1.005315</td>\n",
       "    </tr>\n",
       "    <tr>\n",
       "      <th>96.0</th>\n",
       "      <td>0.983588</td>\n",
       "      <td>0.990105</td>\n",
       "    </tr>\n",
       "    <tr>\n",
       "      <th>96.2</th>\n",
       "      <td>0.928135</td>\n",
       "      <td>0.935426</td>\n",
       "    </tr>\n",
       "    <tr>\n",
       "      <th>96.4</th>\n",
       "      <td>0.835681</td>\n",
       "      <td>0.842420</td>\n",
       "    </tr>\n",
       "    <tr>\n",
       "      <th>96.6</th>\n",
       "      <td>0.709911</td>\n",
       "      <td>0.715286</td>\n",
       "    </tr>\n",
       "    <tr>\n",
       "      <th>96.8</th>\n",
       "      <td>0.555839</td>\n",
       "      <td>0.559726</td>\n",
       "    </tr>\n",
       "    <tr>\n",
       "      <th>97.0</th>\n",
       "      <td>0.379608</td>\n",
       "      <td>0.382610</td>\n",
       "    </tr>\n",
       "    <tr>\n",
       "      <th>97.2</th>\n",
       "      <td>0.188242</td>\n",
       "      <td>0.190734</td>\n",
       "    </tr>\n",
       "    <tr>\n",
       "      <th>97.4</th>\n",
       "      <td>-0.010628</td>\n",
       "      <td>-0.008993</td>\n",
       "    </tr>\n",
       "    <tr>\n",
       "      <th>97.6</th>\n",
       "      <td>-0.209074</td>\n",
       "      <td>-0.208611</td>\n",
       "    </tr>\n",
       "    <tr>\n",
       "      <th>97.8</th>\n",
       "      <td>-0.399185</td>\n",
       "      <td>-0.400252</td>\n",
       "    </tr>\n",
       "    <tr>\n",
       "      <th>98.0</th>\n",
       "      <td>-0.573382</td>\n",
       "      <td>-0.575720</td>\n",
       "    </tr>\n",
       "    <tr>\n",
       "      <th>98.2</th>\n",
       "      <td>-0.724720</td>\n",
       "      <td>-0.727946</td>\n",
       "    </tr>\n",
       "    <tr>\n",
       "      <th>98.4</th>\n",
       "      <td>-0.847166</td>\n",
       "      <td>-0.851070</td>\n",
       "    </tr>\n",
       "    <tr>\n",
       "      <th>98.6</th>\n",
       "      <td>-0.935837</td>\n",
       "      <td>-0.940503</td>\n",
       "    </tr>\n",
       "    <tr>\n",
       "      <th>98.8</th>\n",
       "      <td>-0.987200</td>\n",
       "      <td>-0.992727</td>\n",
       "    </tr>\n",
       "    <tr>\n",
       "      <th>99.0</th>\n",
       "      <td>-0.999207</td>\n",
       "      <td>-1.005622</td>\n",
       "    </tr>\n",
       "    <tr>\n",
       "      <th>99.2</th>\n",
       "      <td>-0.971378</td>\n",
       "      <td>-0.978636</td>\n",
       "    </tr>\n",
       "    <tr>\n",
       "      <th>99.4</th>\n",
       "      <td>-0.904823</td>\n",
       "      <td>-0.912551</td>\n",
       "    </tr>\n",
       "    <tr>\n",
       "      <th>99.6</th>\n",
       "      <td>-0.802196</td>\n",
       "      <td>-0.810245</td>\n",
       "    </tr>\n",
       "    <tr>\n",
       "      <th>99.8</th>\n",
       "      <td>-0.667588</td>\n",
       "      <td>-0.675711</td>\n",
       "    </tr>\n",
       "    <tr>\n",
       "      <th>100.0</th>\n",
       "      <td>-0.506366</td>\n",
       "      <td>-0.514403</td>\n",
       "    </tr>\n",
       "  </tbody>\n",
       "</table>\n",
       "</div>"
      ],
      "text/plain": [
       "           Sine  Predictions\n",
       "90.2   0.787158     0.787790\n",
       "90.4   0.648937     0.647982\n",
       "90.6   0.484846     0.483253\n",
       "90.8   0.301425     0.299877\n",
       "91.0   0.105988     0.104651\n",
       "91.2  -0.093676    -0.094425\n",
       "91.4  -0.289604    -0.291135\n",
       "91.6  -0.473987    -0.475917\n",
       "91.8  -0.639473    -0.641815\n",
       "92.0  -0.779466    -0.781402\n",
       "92.2  -0.888384    -0.890117\n",
       "92.4  -0.961885    -0.963848\n",
       "92.6  -0.997038    -0.999371\n",
       "92.8  -0.992443    -0.995595\n",
       "93.0  -0.948282    -0.951284\n",
       "93.2  -0.866316    -0.869629\n",
       "93.4  -0.749813    -0.753061\n",
       "93.6  -0.603417    -0.606644\n",
       "93.8  -0.432965    -0.436288\n",
       "94.0  -0.245252    -0.248382\n",
       "94.2  -0.047761    -0.050509\n",
       "94.4   0.151633     0.149840\n",
       "94.6   0.344983     0.344169\n",
       "94.8   0.524579     0.525372\n",
       "95.0   0.683262     0.685550\n",
       "95.2   0.814705     0.818460\n",
       "95.4   0.913669     0.918153\n",
       "95.6   0.976207     0.980890\n",
       "95.8   0.999827     1.005315\n",
       "96.0   0.983588     0.990105\n",
       "96.2   0.928135     0.935426\n",
       "96.4   0.835681     0.842420\n",
       "96.6   0.709911     0.715286\n",
       "96.8   0.555839     0.559726\n",
       "97.0   0.379608     0.382610\n",
       "97.2   0.188242     0.190734\n",
       "97.4  -0.010628    -0.008993\n",
       "97.6  -0.209074    -0.208611\n",
       "97.8  -0.399185    -0.400252\n",
       "98.0  -0.573382    -0.575720\n",
       "98.2  -0.724720    -0.727946\n",
       "98.4  -0.847166    -0.851070\n",
       "98.6  -0.935837    -0.940503\n",
       "98.8  -0.987200    -0.992727\n",
       "99.0  -0.999207    -1.005622\n",
       "99.2  -0.971378    -0.978636\n",
       "99.4  -0.904823    -0.912551\n",
       "99.6  -0.802196    -0.810245\n",
       "99.8  -0.667588    -0.675711\n",
       "100.0 -0.506366    -0.514403"
      ]
     },
     "execution_count": 55,
     "metadata": {},
     "output_type": "execute_result"
    }
   ],
   "source": [
    "test"
   ]
  },
  {
   "cell_type": "code",
   "execution_count": 56,
   "metadata": {
    "scrolled": true
   },
   "outputs": [
    {
     "data": {
      "text/plain": [
       "<Axes: >"
      ]
     },
     "execution_count": 56,
     "metadata": {},
     "output_type": "execute_result"
    },
    {
     "data": {
      "image/png": "[encoded data removed]",
      "text/plain": [
       "<Figure size 1200x800 with 1 Axes>"
      ]
     },
     "metadata": {},
     "output_type": "display_data"
    }
   ],
   "source": [
    "test.plot(figsize=(12,8))"
   ]
  },
  {
   "cell_type": "markdown",
   "metadata": {},
   "source": [
    "## Adding in Early Stopping and Validation Generator"
   ]
  },
  {
   "cell_type": "code",
   "execution_count": 57,
   "metadata": {},
   "outputs": [],
   "source": [
    "from tensorflow.keras.callbacks import EarlyStopping"
   ]
  },
  {
   "cell_type": "code",
   "execution_count": 58,
   "metadata": {},
   "outputs": [],
   "source": [
    "early_stop = EarlyStopping(monitor='val_loss',patience=2)"
   ]
  },
  {
   "cell_type": "code",
   "execution_count": 59,
   "metadata": {},
   "outputs": [],
   "source": [
    "length = 49\n",
    "generator = TimeseriesGenerator(scaled_train,scaled_train,\n",
    "                               length=length,batch_size=1)\n",
    "\n",
    "\n",
    "validation_generator = TimeseriesGenerator(scaled_test,scaled_test,\n",
    "                                          length=length,batch_size=1)"
   ]
  },
  {
   "cell_type": "markdown",
   "metadata": {},
   "source": [
    "# LSTMS"
   ]
  },
  {
   "cell_type": "code",
   "execution_count": 60,
   "metadata": {},
   "outputs": [],
   "source": [
    "# define model\n",
    "model = Sequential()\n",
    "\n",
    "# Simple RNN layer\n",
    "model.add(LSTM(50,input_shape=(length, n_features)))\n",
    "\n",
    "# Final Prediction\n",
    "model.add(Dense(1))\n",
    "\n",
    "model.compile(optimizer='adam', loss='mse')"
   ]
  },
  {
   "cell_type": "code",
   "execution_count": 61,
   "metadata": {},
   "outputs": [
    {
     "name": "stderr",
     "output_type": "stream",
     "text": [
      "C:\\Users\\PC 05\\AppData\\Local\\Temp\\ipykernel_3464\\1950115197.py:1: UserWarning: `Model.fit_generator` is deprecated and will be removed in a future version. Please use `Model.fit`, which supports generators.\n",
      "  model.fit_generator(generator,epochs=20,\n"
     ]
    },
    {
     "name": "stdout",
     "output_type": "stream",
     "text": [
      "Epoch 1/20\n"
     ]
    },
    {
     "name": "stdout",
     "output_type": "stream",
     "text": [
      "402/402 [==============================] - 18s 27ms/step - loss: 0.0386 - val_loss: 5.2153e-06\n",
      "Epoch 2/20\n",
      "402/402 [==============================] - 10s 24ms/step - loss: 2.3343e-05 - val_loss: 2.6498e-05\n",
      "Epoch 3/20\n",
      "402/402 [==============================] - 8s 19ms/step - loss: 2.8723e-05 - val_loss: 1.0391e-05\n"
     ]
    },
    {
     "data": {
      "text/plain": [
       "<keras.src.callbacks.History at 0x18f0b454710>"
      ]
     },
     "execution_count": 61,
     "metadata": {},
     "output_type": "execute_result"
    }
   ],
   "source": [
    "model.fit_generator(generator,epochs=20,\n",
    "                   validation_data=validation_generator,\n",
    "                   callbacks=[early_stop])"
   ]
  },
  {
   "cell_type": "code",
   "execution_count": 62,
   "metadata": {},
   "outputs": [
    {
     "name": "stdout",
     "output_type": "stream",
     "text": [
      "1/1 [==============================] - 1s 835ms/step\n",
      "1/1 [==============================] - 0s 59ms/step\n",
      "1/1 [==============================] - 0s 103ms/step\n",
      "1/1 [==============================] - 0s 58ms/step\n",
      "1/1 [==============================] - 0s 92ms/step\n",
      "1/1 [==============================] - 0s 64ms/step\n",
      "1/1 [==============================] - 0s 63ms/step\n",
      "1/1 [==============================] - 0s 60ms/step\n",
      "1/1 [==============================] - 0s 73ms/step\n",
      "1/1 [==============================] - 0s 46ms/step\n",
      "1/1 [==============================] - 0s 68ms/step\n",
      "1/1 [==============================] - 0s 72ms/step\n",
      "1/1 [==============================] - 0s 48ms/step\n",
      "1/1 [==============================] - 0s 55ms/step\n",
      "1/1 [==============================] - 0s 58ms/step\n",
      "1/1 [==============================] - 0s 58ms/step\n",
      "1/1 [==============================] - 0s 72ms/step\n",
      "1/1 [==============================] - 0s 68ms/step\n",
      "1/1 [==============================] - 0s 64ms/step\n",
      "1/1 [==============================] - 0s 78ms/step\n",
      "1/1 [==============================] - 0s 65ms/step\n",
      "1/1 [==============================] - 0s 58ms/step\n",
      "1/1 [==============================] - 0s 87ms/step\n",
      "1/1 [==============================] - 0s 83ms/step\n",
      "1/1 [==============================] - 0s 77ms/step\n",
      "1/1 [==============================] - 0s 56ms/step\n",
      "1/1 [==============================] - 0s 235ms/step\n",
      "1/1 [==============================] - 0s 63ms/step\n",
      "1/1 [==============================] - 0s 60ms/step\n",
      "1/1 [==============================] - 0s 74ms/step\n",
      "1/1 [==============================] - 0s 54ms/step\n",
      "1/1 [==============================] - 0s 69ms/step\n",
      "1/1 [==============================] - 0s 77ms/step\n",
      "1/1 [==============================] - 0s 67ms/step\n",
      "1/1 [==============================] - 0s 71ms/step\n",
      "1/1 [==============================] - 0s 81ms/step\n",
      "1/1 [==============================] - 0s 62ms/step\n",
      "1/1 [==============================] - 0s 92ms/step\n",
      "1/1 [==============================] - 0s 208ms/step\n",
      "1/1 [==============================] - 0s 54ms/step\n",
      "1/1 [==============================] - 0s 50ms/step\n",
      "1/1 [==============================] - 0s 71ms/step\n",
      "1/1 [==============================] - 0s 55ms/step\n",
      "1/1 [==============================] - 0s 56ms/step\n",
      "1/1 [==============================] - 0s 58ms/step\n",
      "1/1 [==============================] - 0s 71ms/step\n",
      "1/1 [==============================] - 0s 123ms/step\n",
      "1/1 [==============================] - 0s 65ms/step\n",
      "1/1 [==============================] - 0s 54ms/step\n",
      "1/1 [==============================] - 0s 53ms/step\n"
     ]
    }
   ],
   "source": [
    "test_predictions = []\n",
    "\n",
    "first_eval_batch = scaled_train[-length:]\n",
    "current_batch = first_eval_batch.reshape((1, length, n_features))\n",
    "\n",
    "for i in range(len(test)):\n",
    "    \n",
    "    # get prediction 1 time stamp ahead ([0] is for grabbing just the number instead of [array])\n",
    "    current_pred = model.predict(current_batch)[0]\n",
    "    \n",
    "    # store prediction\n",
    "    test_predictions.append(current_pred) \n",
    "    \n",
    "    # update batch to now include prediction and drop first value\n",
    "    current_batch = np.append(current_batch[:,1:,:],[[current_pred]],axis=1)"
   ]
  },
  {
   "cell_type": "code",
   "execution_count": 63,
   "metadata": {},
   "outputs": [
    {
     "name": "stderr",
     "output_type": "stream",
     "text": [
      "C:\\Users\\PC 05\\AppData\\Local\\Temp\\ipykernel_3464\\1584625205.py:3: SettingWithCopyWarning: \n",
      "A value is trying to be set on a copy of a slice from a DataFrame.\n",
      "Try using .loc[row_indexer,col_indexer] = value instead\n",
      "\n",
      "See the caveats in the documentation: https://pandas.pydata.org/pandas-docs/stable/user_guide/indexing.html#returning-a-view-versus-a-copy\n",
      "  test['LSTM Predictions'] = true_predictions\n"
     ]
    },
    {
     "data": {
      "text/plain": [
       "<Axes: >"
      ]
     },
     "execution_count": 63,
     "metadata": {},
     "output_type": "execute_result"
    },
    {
     "data": {
      "image/png": "[encoded data removed]",
      "text/plain": [
       "<Figure size 1200x800 with 1 Axes>"
      ]
     },
     "metadata": {},
     "output_type": "display_data"
    }
   ],
   "source": [
    "# IGNORE WARNINGS\n",
    "true_predictions = scaler.inverse_transform(test_predictions)\n",
    "test['LSTM Predictions'] = true_predictions\n",
    "test.plot(figsize=(12,8))"
   ]
  },
  {
   "cell_type": "markdown",
   "metadata": {},
   "source": [
    "# Forecasting\n",
    "\n",
    "Forecast into unknown range. We should first utilize all our data, since we are now forecasting!"
   ]
  },
  {
   "cell_type": "code",
   "execution_count": 64,
   "metadata": {},
   "outputs": [],
   "source": [
    "full_scaler = MinMaxScaler()\n",
    "scaled_full_data = full_scaler.fit_transform(df)"
   ]
  },
  {
   "cell_type": "code",
   "execution_count": 65,
   "metadata": {},
   "outputs": [],
   "source": [
    "length = 50 # Length of the output sequences (in number of timesteps)\n",
    "generator = TimeseriesGenerator(scaled_full_data, scaled_full_data, length=length, batch_size=1)"
   ]
  },
  {
   "cell_type": "code",
   "execution_count": 66,
   "metadata": {},
   "outputs": [
    {
     "name": "stdout",
     "output_type": "stream",
     "text": [
      "Epoch 1/6\n"
     ]
    },
    {
     "name": "stderr",
     "output_type": "stream",
     "text": [
      "C:\\Users\\PC 05\\AppData\\Local\\Temp\\ipykernel_3464\\2968077443.py:5: UserWarning: `Model.fit_generator` is deprecated and will be removed in a future version. Please use `Model.fit`, which supports generators.\n",
      "  model.fit_generator(generator,epochs=6)\n"
     ]
    },
    {
     "name": "stdout",
     "output_type": "stream",
     "text": [
      "451/451 [==============================] - 18s 23ms/step - loss: 0.0256\n",
      "Epoch 2/6\n",
      "451/451 [==============================] - 9s 20ms/step - loss: 4.2838e-05\n",
      "Epoch 3/6\n",
      "451/451 [==============================] - 8s 19ms/step - loss: 1.1284e-04\n",
      "Epoch 4/6\n",
      "451/451 [==============================] - 9s 20ms/step - loss: 2.1692e-04\n",
      "Epoch 5/6\n",
      "451/451 [==============================] - 9s 20ms/step - loss: 1.2652e-04\n",
      "Epoch 6/6\n",
      "451/451 [==============================] - 9s 21ms/step - loss: 2.3637e-04\n"
     ]
    },
    {
     "data": {
      "text/plain": [
       "<keras.src.callbacks.History at 0x18f0db4e610>"
      ]
     },
     "execution_count": 66,
     "metadata": {},
     "output_type": "execute_result"
    }
   ],
   "source": [
    "model = Sequential()\n",
    "model.add(LSTM(50, input_shape=(length, n_features)))\n",
    "model.add(Dense(1))\n",
    "model.compile(optimizer='adam', loss='mse')\n",
    "model.fit_generator(generator,epochs=6)"
   ]
  },
  {
   "cell_type": "code",
   "execution_count": 67,
   "metadata": {},
   "outputs": [
    {
     "name": "stdout",
     "output_type": "stream",
     "text": [
      "1/1 [==============================] - 1s 782ms/step\n",
      "1/1 [==============================] - 0s 76ms/step\n",
      "1/1 [==============================] - 0s 57ms/step\n",
      "1/1 [==============================] - 0s 65ms/step\n",
      "1/1 [==============================] - 0s 67ms/step\n",
      "1/1 [==============================] - 0s 87ms/step\n",
      "1/1 [==============================] - 1s 849ms/step\n",
      "1/1 [==============================] - 1s 602ms/step\n",
      "1/1 [==============================] - 0s 61ms/step\n",
      "1/1 [==============================] - 0s 53ms/step\n",
      "1/1 [==============================] - 0s 50ms/step\n",
      "1/1 [==============================] - 0s 46ms/step\n",
      "1/1 [==============================] - 0s 51ms/step\n",
      "1/1 [==============================] - 0s 52ms/step\n",
      "1/1 [==============================] - 0s 57ms/step\n",
      "1/1 [==============================] - 0s 52ms/step\n",
      "1/1 [==============================] - 0s 51ms/step\n",
      "1/1 [==============================] - 0s 56ms/step\n",
      "1/1 [==============================] - 0s 60ms/step\n",
      "1/1 [==============================] - 0s 57ms/step\n",
      "1/1 [==============================] - 0s 54ms/step\n",
      "1/1 [==============================] - 0s 54ms/step\n",
      "1/1 [==============================] - 0s 52ms/step\n",
      "1/1 [==============================] - 0s 44ms/step\n",
      "1/1 [==============================] - 0s 42ms/step\n",
      "1/1 [==============================] - 0s 118ms/step\n",
      "1/1 [==============================] - 0s 62ms/step\n",
      "1/1 [==============================] - 0s 58ms/step\n",
      "1/1 [==============================] - 0s 67ms/step\n",
      "1/1 [==============================] - 0s 45ms/step\n",
      "1/1 [==============================] - 0s 52ms/step\n",
      "1/1 [==============================] - 0s 46ms/step\n",
      "1/1 [==============================] - 0s 41ms/step\n",
      "1/1 [==============================] - 0s 51ms/step\n",
      "1/1 [==============================] - 0s 48ms/step\n",
      "1/1 [==============================] - 0s 41ms/step\n",
      "1/1 [==============================] - 0s 46ms/step\n",
      "1/1 [==============================] - 0s 53ms/step\n",
      "1/1 [==============================] - 0s 47ms/step\n",
      "1/1 [==============================] - 0s 40ms/step\n",
      "1/1 [==============================] - 0s 39ms/step\n",
      "1/1 [==============================] - 0s 52ms/step\n",
      "1/1 [==============================] - 0s 39ms/step\n",
      "1/1 [==============================] - 0s 43ms/step\n",
      "1/1 [==============================] - 0s 37ms/step\n",
      "1/1 [==============================] - 0s 41ms/step\n",
      "1/1 [==============================] - 0s 51ms/step\n",
      "1/1 [==============================] - 0s 38ms/step\n",
      "1/1 [==============================] - 0s 37ms/step\n",
      "1/1 [==============================] - 0s 37ms/step\n"
     ]
    }
   ],
   "source": [
    "forecast = []\n",
    "\n",
    "first_eval_batch = scaled_full_data[-length:]\n",
    "current_batch = first_eval_batch.reshape((1, length, n_features))\n",
    "\n",
    "for i in range(len(test)):\n",
    "    \n",
    "    # get prediction 1 time stamp ahead ([0] is for grabbing just the number instead of [array])\n",
    "    current_pred = model.predict(current_batch)[0]\n",
    "    \n",
    "    # store prediction\n",
    "    forecast.append(current_pred) \n",
    "    \n",
    "    # update batch to now include prediction and drop first value\n",
    "    current_batch = np.append(current_batch[:,1:,:],[[current_pred]],axis=1)"
   ]
  },
  {
   "cell_type": "code",
   "execution_count": 68,
   "metadata": {},
   "outputs": [],
   "source": [
    "forecast = scaler.inverse_transform(forecast)"
   ]
  },
  {
   "cell_type": "code",
   "execution_count": 69,
   "metadata": {},
   "outputs": [
    {
     "data": {
      "text/html": [
       "<div>\n",
       "<style scoped>\n",
       "    .dataframe tbody tr th:only-of-type {\n",
       "        vertical-align: middle;\n",
       "    }\n",
       "\n",
       "    .dataframe tbody tr th {\n",
       "        vertical-align: top;\n",
       "    }\n",
       "\n",
       "    .dataframe thead th {\n",
       "        text-align: right;\n",
       "    }\n",
       "</style>\n",
       "<table border=\"1\" class=\"dataframe\">\n",
       "  <thead>\n",
       "    <tr style=\"text-align: right;\">\n",
       "      <th></th>\n",
       "      <th>Sine</th>\n",
       "    </tr>\n",
       "  </thead>\n",
       "  <tbody>\n",
       "    <tr>\n",
       "      <th>0.0</th>\n",
       "      <td>0.000000</td>\n",
       "    </tr>\n",
       "    <tr>\n",
       "      <th>0.2</th>\n",
       "      <td>0.198669</td>\n",
       "    </tr>\n",
       "    <tr>\n",
       "      <th>0.4</th>\n",
       "      <td>0.389418</td>\n",
       "    </tr>\n",
       "    <tr>\n",
       "      <th>0.6</th>\n",
       "      <td>0.564642</td>\n",
       "    </tr>\n",
       "    <tr>\n",
       "      <th>0.8</th>\n",
       "      <td>0.717356</td>\n",
       "    </tr>\n",
       "    <tr>\n",
       "      <th>...</th>\n",
       "      <td>...</td>\n",
       "    </tr>\n",
       "    <tr>\n",
       "      <th>99.2</th>\n",
       "      <td>-0.971378</td>\n",
       "    </tr>\n",
       "    <tr>\n",
       "      <th>99.4</th>\n",
       "      <td>-0.904823</td>\n",
       "    </tr>\n",
       "    <tr>\n",
       "      <th>99.6</th>\n",
       "      <td>-0.802196</td>\n",
       "    </tr>\n",
       "    <tr>\n",
       "      <th>99.8</th>\n",
       "      <td>-0.667588</td>\n",
       "    </tr>\n",
       "    <tr>\n",
       "      <th>100.0</th>\n",
       "      <td>-0.506366</td>\n",
       "    </tr>\n",
       "  </tbody>\n",
       "</table>\n",
       "<p>501 rows × 1 columns</p>\n",
       "</div>"
      ],
      "text/plain": [
       "           Sine\n",
       "0.0    0.000000\n",
       "0.2    0.198669\n",
       "0.4    0.389418\n",
       "0.6    0.564642\n",
       "0.8    0.717356\n",
       "...         ...\n",
       "99.2  -0.971378\n",
       "99.4  -0.904823\n",
       "99.6  -0.802196\n",
       "99.8  -0.667588\n",
       "100.0 -0.506366\n",
       "\n",
       "[501 rows x 1 columns]"
      ]
     },
     "execution_count": 69,
     "metadata": {},
     "output_type": "execute_result"
    }
   ],
   "source": [
    "df"
   ]
  },
  {
   "cell_type": "code",
   "execution_count": 70,
   "metadata": {},
   "outputs": [
    {
     "data": {
      "text/plain": [
       "50"
      ]
     },
     "execution_count": 70,
     "metadata": {},
     "output_type": "execute_result"
    }
   ],
   "source": [
    "len(forecast)"
   ]
  },
  {
   "cell_type": "code",
   "execution_count": 71,
   "metadata": {},
   "outputs": [
    {
     "data": {
      "text/plain": [
       "50"
      ]
     },
     "execution_count": 71,
     "metadata": {},
     "output_type": "execute_result"
    }
   ],
   "source": [
    "forecast_index = np.arange(50.1,55.1,step=0.1)\n",
    "len(forecast_index)"
   ]
  },
  {
   "cell_type": "code",
   "execution_count": 72,
   "metadata": {},
   "outputs": [
    {
     "data": {
      "text/plain": [
       "[<matplotlib.lines.Line2D at 0x18f134490d0>]"
      ]
     },
     "execution_count": 72,
     "metadata": {},
     "output_type": "execute_result"
    },
    {
     "data": {
      "image/png": "[encoded data removed]",
      "text/plain": [
       "<Figure size 640x480 with 1 Axes>"
      ]
     },
     "metadata": {},
     "output_type": "display_data"
    }
   ],
   "source": [
    "plt.plot(df.index,df['Sine'])\n",
    "plt.plot(forecast_index,forecast)"
   ]
  }
 ],
 "metadata": {
  "kernelspec": {
   "display_name": "Python 3 (ipykernel)",
   "language": "python",
   "name": "python3"
  },
  "language_info": {
   "codemirror_mode": {
    "name": "ipython",
    "version": 3
   },
   "file_extension": ".py",
   "mimetype": "text/x-python",
   "name": "python",
   "nbconvert_exporter": "python",
   "pygments_lexer": "ipython3",
   "version": "3.11.4"
  }
 },
 "nbformat": 4,
 "nbformat_minor": 4
}
